{
 "cells": [
  {
   "cell_type": "markdown",
   "id": "b799b991-4596-4189-9836-2ea38014c9bc",
   "metadata": {},
   "source": [
    "## Capstone Project - detecting emotions in social media posts "
   ]
  },
  {
   "cell_type": "markdown",
   "id": "4298b931-ce4b-40da-832a-8179ade510ca",
   "metadata": {},
   "source": [
    "Reddit is a popular website where social news, web content and everything under the sun is discussed. Posts are organized by subject into user-created boards called \"communities\" or \"subreddits\", which cover topics that impact the world such as politics and science to more personal content such as hobbies and dealing with emotions.  Although there are strict rules guiding the postings by registered members, Reddit has its group of community-specific administrators who, on a volunteer basis, do the moderation on occasions. \n",
    "\n",
    "In the recent years since Covid struck in end 2019, many people all around the world have been negatively impacted. School-going children, working adults and retired seniors had to restrict their outdoor activities and stay home to keep save while adapting to the new mode of doing most things online. \n",
    "\n",
    "With extended amounts of time spent at home resulting in the lines between work and rest blurred in the process, many have reported burnout. Mental health has become the next buzzword. Everyone needs to prioritise it so that we can function in sanity. But how much resources out there are available to those in need? Question is, how many of us actually reach out? \n",
    "\n",
    "It seems that with the advancement and efficiency of technology, many favour the option of getting help online rather than face-to-face. In fact, some just vent online in the hope that it eases their woes.\n",
    "\n",
    "Specific to my project, I've taken interest in exploring whether joining subreddit threads pertaining to negative emotions (r/depressed) help or worsen one's state of mental health."
   ]
  },
  {
   "cell_type": "markdown",
   "id": "b14a71e9-bc14-4b99-8318-dbb8a2965fbe",
   "metadata": {},
   "source": [
    "**Data Collection**"
   ]
  },
  {
   "cell_type": "markdown",
   "id": "88ebf365-9331-452b-a333-ac2c13944719",
   "metadata": {},
   "source": [
    "I've chosen to scrap some 500 comments from subreddit thread r/depressed to study what the users post about."
   ]
  },
  {
   "cell_type": "code",
   "execution_count": 1,
   "id": "520ff55b-7ddc-4009-a599-d7061c91ee9f",
   "metadata": {},
   "outputs": [],
   "source": [
    "import requests\n",
    "import pandas as pd\n",
    "import time"
   ]
  },
  {
   "cell_type": "code",
   "execution_count": 2,
   "id": "cafb8c47-7d29-42ad-909f-a4fb24c3cbf9",
   "metadata": {},
   "outputs": [],
   "source": [
    "# Stating the parameters\n",
    "url = 'https://api.pushshift.io/reddit/search/comment'\n",
    "params = {\n",
    "    'subreddit': 'depressed',\n",
    "    'size': 100,\n",
    "    'before' : 1641398400 #Local Datetime as 6th Jan 12am\n",
    "}"
   ]
  },
  {
   "cell_type": "code",
   "execution_count": 3,
   "id": "b278efe2-fcf0-4a26-a391-3cdde6aa4089",
   "metadata": {},
   "outputs": [
    {
     "data": {
      "text/plain": [
       "200"
      ]
     },
     "execution_count": 3,
     "metadata": {},
     "output_type": "execute_result"
    }
   ],
   "source": [
    "res = requests.get(url, params)\n",
    "res.status_code # check connection status, if 200 means successfully connected"
   ]
  },
  {
   "cell_type": "code",
   "execution_count": 4,
   "id": "c1f6f597-6f36-496c-bdf5-08a273555657",
   "metadata": {},
   "outputs": [
    {
     "data": {
      "text/plain": [
       "100"
      ]
     },
     "execution_count": 4,
     "metadata": {},
     "output_type": "execute_result"
    }
   ],
   "source": [
    "data = res.json()\n",
    "posts = data['data']\n",
    "len(posts) # Check to see if we extracted 100 posts"
   ]
  },
  {
   "cell_type": "code",
   "execution_count": 5,
   "id": "89d5c222-16cc-4237-bc3d-e988b53ade22",
   "metadata": {},
   "outputs": [],
   "source": [
    "# Create dataframe for r/depressed comments.\n",
    "df_depressed = pd.DataFrame(posts)"
   ]
  },
  {
   "cell_type": "code",
   "execution_count": 6,
   "id": "980496b9-1b56-4635-96da-454520146b41",
   "metadata": {},
   "outputs": [
    {
     "data": {
      "text/plain": [
       "(500, 47)"
      ]
     },
     "execution_count": 6,
     "metadata": {},
     "output_type": "execute_result"
    }
   ],
   "source": [
    "# Initiate variable for time taken to scrap 500 posts\n",
    "depressed_total_time = 0\n",
    "\n",
    "# Extracting another 500 posts to get 600 rows for df_depressed\n",
    "for i in range(4):\n",
    "    start_time = time.time()\n",
    "    params = {'subreddit': 'depressed', 'size': 100, 'before': posts[-1]['created_utc']}\n",
    "    response = requests.get(url, params)\n",
    "    data = response.json()\n",
    "    posts = data['data']\n",
    "    df_depressed = df_depressed.append(pd.DataFrame(posts))\n",
    "    end_time = time.time()\n",
    "    exe_time = end_time - start_time\n",
    "    depressed_total_time += exe_time\n",
    "    time.sleep(2)\n",
    "\n",
    "# Check if we have 500 posts\n",
    "df_depressed.shape"
   ]
  },
  {
   "cell_type": "code",
   "execution_count": 7,
   "id": "b24d0b45-388d-4461-9c62-a93af05d1835",
   "metadata": {},
   "outputs": [
    {
     "data": {
      "text/plain": [
       "Index(['all_awardings', 'archived', 'associated_award', 'author',\n",
       "       'author_flair_background_color', 'author_flair_css_class',\n",
       "       'author_flair_richtext', 'author_flair_template_id',\n",
       "       'author_flair_text', 'author_flair_text_color', 'author_flair_type',\n",
       "       'author_fullname', 'author_patreon_flair', 'author_premium', 'body',\n",
       "       'body_sha1', 'can_gild', 'collapsed', 'collapsed_because_crowd_control',\n",
       "       'collapsed_reason', 'collapsed_reason_code', 'comment_type',\n",
       "       'controversiality', 'created_utc', 'distinguished', 'gilded',\n",
       "       'gildings', 'id', 'is_submitter', 'link_id', 'locked', 'no_follow',\n",
       "       'parent_id', 'permalink', 'retrieved_utc', 'score', 'score_hidden',\n",
       "       'send_replies', 'stickied', 'subreddit', 'subreddit_id',\n",
       "       'subreddit_name_prefixed', 'subreddit_type', 'top_awarded_type',\n",
       "       'total_awards_received', 'treatment_tags', 'unrepliable_reason'],\n",
       "      dtype='object')"
      ]
     },
     "execution_count": 7,
     "metadata": {},
     "output_type": "execute_result"
    }
   ],
   "source": [
    "# Taking a look at the column headings. \n",
    "df_depressed.columns"
   ]
  },
  {
   "cell_type": "code",
   "execution_count": 8,
   "id": "87834804-3c1b-4637-abde-1c64f273d892",
   "metadata": {},
   "outputs": [
    {
     "data": {
      "text/plain": [
       "all_awardings                                                                     []\n",
       "archived                                                                       False\n",
       "associated_award                                                                None\n",
       "author                                                              mushroomrisottoo\n",
       "author_flair_background_color                                                   None\n",
       "author_flair_css_class                                                          None\n",
       "author_flair_richtext                                                             []\n",
       "author_flair_template_id                                                        None\n",
       "author_flair_text                                                               None\n",
       "author_flair_text_color                                                         None\n",
       "author_flair_type                                                               text\n",
       "author_fullname                                                          t2_fw74mkf6\n",
       "author_patreon_flair                                                           False\n",
       "author_premium                                                                 False\n",
       "body                               I relate to this so much, I had to go up and m...\n",
       "body_sha1                                   23b63621dc629af447cb7167f29b134e29bbfeef\n",
       "can_gild                                                                        True\n",
       "collapsed                                                                      False\n",
       "collapsed_because_crowd_control                                                 None\n",
       "collapsed_reason                                                                None\n",
       "collapsed_reason_code                                                           None\n",
       "comment_type                                                                    None\n",
       "controversiality                                                                   0\n",
       "created_utc                                                               1641397897\n",
       "distinguished                                                                   None\n",
       "gilded                                                                             0\n",
       "gildings                                                                          {}\n",
       "id                                                                           hrd74xc\n",
       "is_submitter                                                                   False\n",
       "link_id                                                                    t3_midql5\n",
       "locked                                                                         False\n",
       "no_follow                                                                       True\n",
       "parent_id                                                                  t3_midql5\n",
       "permalink                          /r/depressed/comments/midql5/my_brain_is_tryin...\n",
       "retrieved_utc                                                             1641397908\n",
       "score                                                                              1\n",
       "score_hidden                                                                   False\n",
       "send_replies                                                                    True\n",
       "stickied                                                                       False\n",
       "subreddit                                                                  depressed\n",
       "subreddit_id                                                                t5_2r8rq\n",
       "subreddit_name_prefixed                                                  r/depressed\n",
       "subreddit_type                                                                public\n",
       "top_awarded_type                                                                None\n",
       "total_awards_received                                                              0\n",
       "treatment_tags                                                                    []\n",
       "unrepliable_reason                                                              None\n",
       "Name: 0, dtype: object"
      ]
     },
     "execution_count": 8,
     "metadata": {},
     "output_type": "execute_result"
    }
   ],
   "source": [
    "# Checking one post to understand what each column is.\n",
    "df_depressed.iloc[0]"
   ]
  },
  {
   "cell_type": "code",
   "execution_count": 9,
   "id": "8dc6a6f5-509e-4419-9f95-1ae4957212d4",
   "metadata": {},
   "outputs": [],
   "source": [
    "# Keeping only the columns I'm interested to look into.\n",
    "df = df_depressed[['author', 'created_utc', 'body']]"
   ]
  },
  {
   "cell_type": "code",
   "execution_count": 10,
   "id": "804a4bc8-1a72-4907-9310-5cf1860152fa",
   "metadata": {},
   "outputs": [
    {
     "name": "stdout",
     "output_type": "stream",
     "text": [
      "<class 'pandas.core.frame.DataFrame'>\n",
      "Int64Index: 500 entries, 0 to 99\n",
      "Data columns (total 3 columns):\n",
      " #   Column       Non-Null Count  Dtype \n",
      "---  ------       --------------  ----- \n",
      " 0   author       500 non-null    object\n",
      " 1   created_utc  500 non-null    int64 \n",
      " 2   body         500 non-null    object\n",
      "dtypes: int64(1), object(2)\n",
      "memory usage: 15.6+ KB\n"
     ]
    }
   ],
   "source": [
    "# Confirming that there are no missing values and dtypes are correct.\n",
    "df.info()"
   ]
  },
  {
   "cell_type": "code",
   "execution_count": 13,
   "id": "c9e5436d-f2bd-4257-ad32-38995dc0f12d",
   "metadata": {},
   "outputs": [],
   "source": [
    "# Save data to csv\n",
    "df.to_csv('./datasets/df_depressed.csv', index=False)"
   ]
  },
  {
   "cell_type": "code",
   "execution_count": null,
   "id": "fee93b48-3c4c-45ad-96d1-fa69013baa09",
   "metadata": {},
   "outputs": [],
   "source": []
  }
 ],
 "metadata": {
  "kernelspec": {
   "display_name": "Python 3",
   "language": "python",
   "name": "python3"
  },
  "language_info": {
   "codemirror_mode": {
    "name": "ipython",
    "version": 3
   },
   "file_extension": ".py",
   "mimetype": "text/x-python",
   "name": "python",
   "nbconvert_exporter": "python",
   "pygments_lexer": "ipython3",
   "version": "3.8.8"
  }
 },
 "nbformat": 4,
 "nbformat_minor": 5
}
