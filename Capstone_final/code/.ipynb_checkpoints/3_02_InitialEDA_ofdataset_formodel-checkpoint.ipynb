{
 "cells": [
  {
   "cell_type": "markdown",
   "id": "5ff442e0-e163-4e8e-939a-b9d7ef57e8a2",
   "metadata": {},
   "source": [
    "## EDA\n",
    "Doing an EDA on the dataset from which my model will be built. \n",
    "Just to get a sense of the data so I can understand my model better later. "
   ]
  },
  {
   "cell_type": "code",
   "execution_count": 38,
   "id": "5890bb9e-fec6-4025-b59f-75a561b259ca",
   "metadata": {},
   "outputs": [],
   "source": [
    "# Doing the necessary import to carry out data cleaning. \n",
    "import pandas as pd\n",
    "import matplotlib.pyplot as plt\n",
    "import seaborn as sns"
   ]
  },
  {
   "cell_type": "code",
   "execution_count": 39,
   "id": "a8f2d04a-7410-45b4-ab6b-a882862d8910",
   "metadata": {},
   "outputs": [
    {
     "name": "stdout",
     "output_type": "stream",
     "text": [
      "(211225, 31)\n"
     ]
    },
    {
     "data": {
      "text/html": [
       "<div>\n",
       "<style scoped>\n",
       "    .dataframe tbody tr th:only-of-type {\n",
       "        vertical-align: middle;\n",
       "    }\n",
       "\n",
       "    .dataframe tbody tr th {\n",
       "        vertical-align: top;\n",
       "    }\n",
       "\n",
       "    .dataframe thead th {\n",
       "        text-align: right;\n",
       "    }\n",
       "</style>\n",
       "<table border=\"1\" class=\"dataframe\">\n",
       "  <thead>\n",
       "    <tr style=\"text-align: right;\">\n",
       "      <th></th>\n",
       "      <th>text</th>\n",
       "      <th>author</th>\n",
       "      <th>subreddit</th>\n",
       "      <th>admiration</th>\n",
       "      <th>amusement</th>\n",
       "      <th>anger</th>\n",
       "      <th>annoyance</th>\n",
       "      <th>approval</th>\n",
       "      <th>caring</th>\n",
       "      <th>confusion</th>\n",
       "      <th>...</th>\n",
       "      <th>love</th>\n",
       "      <th>nervousness</th>\n",
       "      <th>optimism</th>\n",
       "      <th>pride</th>\n",
       "      <th>realization</th>\n",
       "      <th>relief</th>\n",
       "      <th>remorse</th>\n",
       "      <th>sadness</th>\n",
       "      <th>surprise</th>\n",
       "      <th>neutral</th>\n",
       "    </tr>\n",
       "  </thead>\n",
       "  <tbody>\n",
       "    <tr>\n",
       "      <th>0</th>\n",
       "      <td>That game hurt.</td>\n",
       "      <td>Brdd9</td>\n",
       "      <td>nrl</td>\n",
       "      <td>0</td>\n",
       "      <td>0</td>\n",
       "      <td>0</td>\n",
       "      <td>0</td>\n",
       "      <td>0</td>\n",
       "      <td>0</td>\n",
       "      <td>0</td>\n",
       "      <td>...</td>\n",
       "      <td>0</td>\n",
       "      <td>0</td>\n",
       "      <td>0</td>\n",
       "      <td>0</td>\n",
       "      <td>0</td>\n",
       "      <td>0</td>\n",
       "      <td>0</td>\n",
       "      <td>1</td>\n",
       "      <td>0</td>\n",
       "      <td>0</td>\n",
       "    </tr>\n",
       "    <tr>\n",
       "      <th>1</th>\n",
       "      <td>&gt;sexuality shouldn’t be a grouping category I...</td>\n",
       "      <td>TheGreen888</td>\n",
       "      <td>unpopularopinion</td>\n",
       "      <td>0</td>\n",
       "      <td>0</td>\n",
       "      <td>0</td>\n",
       "      <td>0</td>\n",
       "      <td>0</td>\n",
       "      <td>0</td>\n",
       "      <td>0</td>\n",
       "      <td>...</td>\n",
       "      <td>0</td>\n",
       "      <td>0</td>\n",
       "      <td>0</td>\n",
       "      <td>0</td>\n",
       "      <td>0</td>\n",
       "      <td>0</td>\n",
       "      <td>0</td>\n",
       "      <td>0</td>\n",
       "      <td>0</td>\n",
       "      <td>0</td>\n",
       "    </tr>\n",
       "    <tr>\n",
       "      <th>2</th>\n",
       "      <td>You do right, if you don't care then fuck 'em!</td>\n",
       "      <td>Labalool</td>\n",
       "      <td>confessions</td>\n",
       "      <td>0</td>\n",
       "      <td>0</td>\n",
       "      <td>0</td>\n",
       "      <td>0</td>\n",
       "      <td>0</td>\n",
       "      <td>0</td>\n",
       "      <td>0</td>\n",
       "      <td>...</td>\n",
       "      <td>0</td>\n",
       "      <td>0</td>\n",
       "      <td>0</td>\n",
       "      <td>0</td>\n",
       "      <td>0</td>\n",
       "      <td>0</td>\n",
       "      <td>0</td>\n",
       "      <td>0</td>\n",
       "      <td>0</td>\n",
       "      <td>1</td>\n",
       "    </tr>\n",
       "    <tr>\n",
       "      <th>3</th>\n",
       "      <td>Man I love reddit.</td>\n",
       "      <td>MrsRobertshaw</td>\n",
       "      <td>facepalm</td>\n",
       "      <td>0</td>\n",
       "      <td>0</td>\n",
       "      <td>0</td>\n",
       "      <td>0</td>\n",
       "      <td>0</td>\n",
       "      <td>0</td>\n",
       "      <td>0</td>\n",
       "      <td>...</td>\n",
       "      <td>1</td>\n",
       "      <td>0</td>\n",
       "      <td>0</td>\n",
       "      <td>0</td>\n",
       "      <td>0</td>\n",
       "      <td>0</td>\n",
       "      <td>0</td>\n",
       "      <td>0</td>\n",
       "      <td>0</td>\n",
       "      <td>0</td>\n",
       "    </tr>\n",
       "    <tr>\n",
       "      <th>4</th>\n",
       "      <td>[NAME] was nowhere near them, he was by the Fa...</td>\n",
       "      <td>American_Fascist713</td>\n",
       "      <td>starwarsspeculation</td>\n",
       "      <td>0</td>\n",
       "      <td>0</td>\n",
       "      <td>0</td>\n",
       "      <td>0</td>\n",
       "      <td>0</td>\n",
       "      <td>0</td>\n",
       "      <td>0</td>\n",
       "      <td>...</td>\n",
       "      <td>0</td>\n",
       "      <td>0</td>\n",
       "      <td>0</td>\n",
       "      <td>0</td>\n",
       "      <td>0</td>\n",
       "      <td>0</td>\n",
       "      <td>0</td>\n",
       "      <td>0</td>\n",
       "      <td>0</td>\n",
       "      <td>1</td>\n",
       "    </tr>\n",
       "  </tbody>\n",
       "</table>\n",
       "<p>5 rows × 31 columns</p>\n",
       "</div>"
      ],
      "text/plain": [
       "                                                text               author  \\\n",
       "0                                    That game hurt.                Brdd9   \n",
       "1   >sexuality shouldn’t be a grouping category I...          TheGreen888   \n",
       "2     You do right, if you don't care then fuck 'em!             Labalool   \n",
       "3                                 Man I love reddit.        MrsRobertshaw   \n",
       "4  [NAME] was nowhere near them, he was by the Fa...  American_Fascist713   \n",
       "\n",
       "             subreddit  admiration  amusement  anger  annoyance  approval  \\\n",
       "0                  nrl           0          0      0          0         0   \n",
       "1     unpopularopinion           0          0      0          0         0   \n",
       "2          confessions           0          0      0          0         0   \n",
       "3             facepalm           0          0      0          0         0   \n",
       "4  starwarsspeculation           0          0      0          0         0   \n",
       "\n",
       "   caring  confusion  ...  love  nervousness  optimism  pride  realization  \\\n",
       "0       0          0  ...     0            0         0      0            0   \n",
       "1       0          0  ...     0            0         0      0            0   \n",
       "2       0          0  ...     0            0         0      0            0   \n",
       "3       0          0  ...     1            0         0      0            0   \n",
       "4       0          0  ...     0            0         0      0            0   \n",
       "\n",
       "   relief  remorse  sadness  surprise  neutral  \n",
       "0       0        0        1         0        0  \n",
       "1       0        0        0         0        0  \n",
       "2       0        0        0         0        1  \n",
       "3       0        0        0         0        0  \n",
       "4       0        0        0         0        1  \n",
       "\n",
       "[5 rows x 31 columns]"
      ]
     },
     "execution_count": 39,
     "metadata": {},
     "output_type": "execute_result"
    }
   ],
   "source": [
    "# Read df.\n",
    "df = pd.read_csv('../datasets/hf_df.csv')\n",
    "print(df.shape)\n",
    "df.head()"
   ]
  },
  {
   "cell_type": "code",
   "execution_count": 40,
   "id": "6184d71d-4ac8-4f53-b8b6-6779f176dec4",
   "metadata": {},
   "outputs": [],
   "source": [
    "# Create a new column for length of post.\n",
    "df['post_length'] = df['text'].str.len()"
   ]
  },
  {
   "cell_type": "code",
   "execution_count": 41,
   "id": "0262a3fe-17d8-43c0-aa4b-19882852fbc3",
   "metadata": {},
   "outputs": [
    {
     "name": "stdout",
     "output_type": "stream",
     "text": [
      "2\n",
      "703\n"
     ]
    }
   ],
   "source": [
    "# Getting a sense of the range of lengths.\n",
    "print(df['post_length'].min())\n",
    "print(df['post_length'].max())"
   ]
  },
  {
   "cell_type": "code",
   "execution_count": 42,
   "id": "e111fbaa-9535-4863-8a36-26c2502eac1c",
   "metadata": {},
   "outputs": [
    {
     "data": {
      "image/png": "[encoded data removed]",
      "text/plain": [
       "<Figure size 360x360 with 1 Axes>"
      ]
     },
     "metadata": {
      "needs_background": "light"
     },
     "output_type": "display_data"
    }
   ],
   "source": [
    "# Visualize the spread of the post lengths.\n",
    "sns.displot(df['post_length'], bins = 20, kde = True)\n",
    "plt.title('Length of posts');"
   ]
  },
  {
   "cell_type": "markdown",
   "id": "a4e9d3ae-a9ad-485e-9484-5fd1fbcb47e1",
   "metadata": {},
   "source": [
    "The post lengths are not normally distributed, it is right skewed so I will proceed to drop outliers."
   ]
  },
  {
   "cell_type": "code",
   "execution_count": 43,
   "id": "c66350c4-cf1b-4ef9-b403-9b3fb2e86497",
   "metadata": {},
   "outputs": [
    {
     "data": {
      "text/plain": [
       "<AxesSubplot:xlabel='post_length'>"
      ]
     },
     "execution_count": 43,
     "metadata": {},
     "output_type": "execute_result"
    },
    {
     "data": {
      "image/png": "[encoded data removed]",
      "text/plain": [
       "<Figure size 432x288 with 1 Axes>"
      ]
     },
     "metadata": {
      "needs_background": "light"
     },
     "output_type": "display_data"
    }
   ],
   "source": [
    "# Identify which outliers to drop.\n",
    "sns.boxplot(data=df, x=\"post_length\")"
   ]
  },
  {
   "cell_type": "code",
   "execution_count": 44,
   "id": "212d5a80-95ef-4f7b-940c-b0e9ca309dc4",
   "metadata": {},
   "outputs": [],
   "source": [
    "# By eyeballing, I decide to drop those >= 400 words in length of posts.\n",
    "df = df[df['post_length'] < 400]"
   ]
  },
  {
   "cell_type": "code",
   "execution_count": 45,
   "id": "26be478d-feec-4bc2-b95e-c9b8d0cc14d6",
   "metadata": {},
   "outputs": [
    {
     "data": {
      "text/plain": [
       "(211214, 32)"
      ]
     },
     "execution_count": 45,
     "metadata": {},
     "output_type": "execute_result"
    }
   ],
   "source": [
    "df.shape"
   ]
  },
  {
   "cell_type": "code",
   "execution_count": 46,
   "id": "22a838c2-589c-4c34-8d2e-7f6b6db3d1d6",
   "metadata": {},
   "outputs": [
    {
     "data": {
      "image/png": "[encoded data removed]",
      "text/plain": [
       "<Figure size 360x360 with 1 Axes>"
      ]
     },
     "metadata": {
      "needs_background": "light"
     },
     "output_type": "display_data"
    }
   ],
   "source": [
    "# Visualize the spread of the post lengths after the outliers have been dropped.\n",
    "sns.displot(df['post_length'], bins = 20, kde = True)\n",
    "plt.title('Length of posts after dropping outliers');"
   ]
  },
  {
   "cell_type": "code",
   "execution_count": 47,
   "id": "29d907de-fa0a-4c30-8920-03a4d547b9ad",
   "metadata": {},
   "outputs": [
    {
     "data": {
      "text/plain": [
       "49177"
      ]
     },
     "execution_count": 47,
     "metadata": {},
     "output_type": "execute_result"
    }
   ],
   "source": [
    "# Getting the number of unique authors in the dataset.\n",
    "df['author'].nunique()"
   ]
  },
  {
   "cell_type": "code",
   "execution_count": 48,
   "id": "e8353e2c-00eb-4393-bf3b-e1c1847df552",
   "metadata": {},
   "outputs": [
    {
     "data": {
      "text/plain": [
       "483"
      ]
     },
     "execution_count": 48,
     "metadata": {},
     "output_type": "execute_result"
    }
   ],
   "source": [
    "# Getting the number of unique subreddit threads in the dataset.\n",
    "df['subreddit'].nunique()"
   ]
  },
  {
   "cell_type": "code",
   "execution_count": 54,
   "id": "1439d377-ed60-478b-a429-aa761d261af2",
   "metadata": {},
   "outputs": [
    {
     "data": {
      "text/plain": [
       "cringe              895\n",
       "loveafterlockup     870\n",
       "socialanxiety       861\n",
       "AnimalsBeingBros    827\n",
       "OkCupid             817\n",
       "                   ... \n",
       "hawks               130\n",
       "SSBM                125\n",
       "Anticonsumption     125\n",
       "shieldbro           109\n",
       "farcry               87\n",
       "Name: subreddit, Length: 483, dtype: int64"
      ]
     },
     "execution_count": 54,
     "metadata": {},
     "output_type": "execute_result"
    }
   ],
   "source": [
    "# Looking deeper into the subreddit threads and the number of times they appear in the dataset.\n",
    "df['subreddit'].value_counts()"
   ]
  },
  {
   "cell_type": "code",
   "execution_count": 55,
   "id": "3cd11499-a725-4697-bacf-94debc845456",
   "metadata": {},
   "outputs": [],
   "source": [
    "# Save data to csv\n",
    "df.to_csv('../datasets/hf_df_no_outliers.csv', index=False)"
   ]
  },
  {
   "cell_type": "code",
   "execution_count": null,
   "id": "f4cd13ff-77d4-404b-84c2-a66ea197dff0",
   "metadata": {},
   "outputs": [],
   "source": []
  }
 ],
 "metadata": {
  "kernelspec": {
   "display_name": "Python 3 (ipykernel)",
   "language": "python",
   "name": "python3"
  },
  "language_info": {
   "codemirror_mode": {
    "name": "ipython",
    "version": 3
   },
   "file_extension": ".py",
   "mimetype": "text/x-python",
   "name": "python",
   "nbconvert_exporter": "python",
   "pygments_lexer": "ipython3",
   "version": "3.8.13"
  }
 },
 "nbformat": 4,
 "nbformat_minor": 5
}
