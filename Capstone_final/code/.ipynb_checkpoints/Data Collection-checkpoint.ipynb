{
 "cells": [
  {
   "cell_type": "markdown",
   "id": "211f37d3-c4f5-4df6-b4e9-546319506f34",
   "metadata": {},
   "source": []
  },
  {
   "cell_type": "code",
   "execution_count": 64,
   "id": "083b2487",
   "metadata": {},
   "outputs": [],
   "source": [
    "# Doing the necessary import.\n",
    "import pandas as pd"
   ]
  },
  {
   "cell_type": "code",
   "execution_count": 65,
   "id": "61bcab22",
   "metadata": {},
   "outputs": [
    {
     "name": "stdout",
     "output_type": "stream",
     "text": [
      "Requirement already satisfied: psaw in c:\\users\\krispy\\anaconda3\\lib\\site-packages (0.1.0)\n",
      "Requirement already satisfied: Click in c:\\users\\krispy\\anaconda3\\lib\\site-packages (from psaw) (7.1.2)\n",
      "Requirement already satisfied: requests in c:\\users\\krispy\\anaconda3\\lib\\site-packages (from psaw) (2.26.0)\n",
      "Requirement already satisfied: certifi>=2017.4.17 in c:\\users\\krispy\\anaconda3\\lib\\site-packages (from requests->psaw) (2020.12.5)\n",
      "Requirement already satisfied: idna<4,>=2.5 in c:\\users\\krispy\\anaconda3\\lib\\site-packages (from requests->psaw) (2.10)\n",
      "Requirement already satisfied: charset-normalizer~=2.0.0 in c:\\users\\krispy\\anaconda3\\lib\\site-packages (from requests->psaw) (2.0.11)\n",
      "Requirement already satisfied: urllib3<1.27,>=1.21.1 in c:\\users\\krispy\\anaconda3\\lib\\site-packages (from requests->psaw) (1.26.4)\n"
     ]
    }
   ],
   "source": [
    "# API scrape \n",
    "!pip install psaw\n",
    "from psaw import PushshiftAPI"
   ]
  },
  {
   "cell_type": "markdown",
   "id": "cd92483d",
   "metadata": {},
   "source": [
    "First I define a function to scrab the subreddit threads."
   ]
  },
  {
   "cell_type": "code",
   "execution_count": 66,
   "id": "d64e41ea",
   "metadata": {},
   "outputs": [],
   "source": [
    "# Creating a function to scrap the subreddit threads subsequently.\n",
    "def scrape_data(subreddit):\n",
    "    \n",
    "    # Instantiate \n",
    "    api = PushshiftAPI()\n",
    "\n",
    "    # Create list of scraped data\n",
    "    scrape_list = list(api.search_submissions(subreddit=subreddit,\n",
    "                                filter=['title', 'subreddit', 'num_comments', 'author', 'subreddit_subscribers', 'score', 'domain', 'created_utc','selftext'],\n",
    "                                limit=2000)) \n",
    "\n",
    "    #Filter list to only show Subreddit titles and Subreddit category \n",
    "    clean_scrape_lst = []\n",
    "    for i in range(len(scrape_list)):\n",
    "        scrape_dict = {}\n",
    "        scrape_dict['subreddit'] = scrape_list[i][6]\n",
    "        scrape_dict['author'] = scrape_list[i][0]\n",
    "        scrape_dict['domain'] = scrape_list[i][2]\n",
    "        scrape_dict['title'] = scrape_list[i][8]\n",
    "        scrape_dict['num_comments'] = scrape_list[i][3]\n",
    "        scrape_dict['score'] = scrape_list[i][4]\n",
    "        scrape_dict['timestamp'] = scrape_list[i][1]\n",
    "        scrape_dict['selftext'] = scrape_list[i][5]\n",
    "        clean_scrape_lst.append(scrape_dict)\n",
    "\n",
    "    # Show number of subscribers\n",
    "    print(subreddit, 'subscribers:',scrape_list[1][7])\n",
    "    \n",
    "    # Return list of scraped data\n",
    "    return clean_scrape_lst"
   ]
  },
  {
   "cell_type": "markdown",
   "id": "094d59b4",
   "metadata": {},
   "source": [
    "Based on Ekman's 6 basic emotions, I scrap from similar subreddit threads for each category:\n",
    "\n",
    "a) Anger : anger, exasperations, rage, vex  \n",
    "b) Disgust: disgusting, awfuleverything, yuck  \n",
    "c) Fear: fear, horror, panic disorder, dread, bipolar  \n",
    "d) Joy: joy, happiness, happy, appreciation, thank you  \n",
    "e) Neutral: zen, zenhabits, calm, meditation  \n",
    "f) Sadness: sad, sadness, depression  \n",
    "g) Surprise: surprise, unexpected, astonishing, amazing, shocking reality"
   ]
  },
  {
   "cell_type": "code",
   "execution_count": 67,
   "id": "88bfdbf1",
   "metadata": {},
   "outputs": [
    {
     "name": "stdout",
     "output_type": "stream",
     "text": [
      "anger subscribers: 31568\n",
      "df_anger shape: (1999, 8)\n",
      "exasperations subscribers: 3764\n",
      "df_exasp shape: (493, 8)\n",
      "rage subscribers: 403050\n",
      "df_rage shape: (1995, 8)\n"
     ]
    },
    {
     "name": "stderr",
     "output_type": "stream",
     "text": [
      "C:\\Users\\Krispy\\anaconda3\\lib\\site-packages\\psaw\\PushshiftAPI.py:192: UserWarning: Got non 200 code 429\n",
      "  warnings.warn(\"Got non 200 code %s\" % response.status_code)\n"
     ]
    },
    {
     "name": "stdout",
     "output_type": "stream",
     "text": [
      "vex subscribers: 4214\n",
      "df_vex shape: (1999, 8)\n"
     ]
    }
   ],
   "source": [
    "# Call function and create DataFrame for emotional state - Anger.\n",
    "\n",
    "df_anger = pd.DataFrame(scrape_data('anger'))\n",
    "print(f'df_anger shape: {df_anger.shape}')\n",
    "\n",
    "df_exasp = pd.DataFrame(scrape_data('exasperations'))\n",
    "print(f'df_exasp shape: {df_exasp.shape}')\n",
    "\n",
    "df_rage = pd.DataFrame(scrape_data('rage'))\n",
    "print(f'df_rage shape: {df_rage.shape}')\n",
    "\n",
    "df_vex = pd.DataFrame(scrape_data('vex'))\n",
    "print(f'df_vex shape: {df_vex.shape}')\n"
   ]
  },
  {
   "cell_type": "code",
   "execution_count": 68,
   "id": "92c67fee",
   "metadata": {},
   "outputs": [
    {
     "name": "stdout",
     "output_type": "stream",
     "text": [
      "6486\n"
     ]
    }
   ],
   "source": [
    "# Checking the total posts for Anger.\n",
    "print(df_anger.shape[0] + df_exasp .shape[0] + df_rage.shape[0] + df_vex.shape[0])"
   ]
  },
  {
   "cell_type": "code",
   "execution_count": 69,
   "id": "d7cc9348",
   "metadata": {},
   "outputs": [
    {
     "name": "stdout",
     "output_type": "stream",
     "text": [
      "disgusting subscribers: 4482\n",
      "df_disgust shape: (1378, 8)\n",
      "awfuleverything subscribers: 1391468\n",
      "df_awful shape: (1999, 8)\n",
      "yuck subscribers: 28\n",
      "df_yuck shape: (33, 8)\n"
     ]
    }
   ],
   "source": [
    "# Call function and create DataFrame for emotional state - Disgust.\n",
    "\n",
    "df_disgust = pd.DataFrame(scrape_data('disgusting'))\n",
    "print(f'df_disgust shape: {df_disgust.shape}')\n",
    "\n",
    "df_awful = pd.DataFrame(scrape_data('awfuleverything'))\n",
    "print(f'df_awful shape: {df_awful.shape}')\n",
    "\n",
    "df_yuck = pd.DataFrame(scrape_data('yuck'))\n",
    "print(f'df_yuck shape: {df_yuck.shape}')"
   ]
  },
  {
   "cell_type": "code",
   "execution_count": 70,
   "id": "eeff7d2b",
   "metadata": {},
   "outputs": [
    {
     "name": "stdout",
     "output_type": "stream",
     "text": [
      "3410\n"
     ]
    }
   ],
   "source": [
    "# Checking the total posts for Disgust.\n",
    "print(df_disgust.shape[0] + df_awful.shape[0] + df_yuck.shape[0])"
   ]
  },
  {
   "cell_type": "code",
   "execution_count": 71,
   "id": "db5cdd5a",
   "metadata": {},
   "outputs": [
    {
     "name": "stdout",
     "output_type": "stream",
     "text": [
      "fear subscribers: 649\n",
      "df_fear shape: (586, 8)\n",
      "horror subscribers: 2538287\n",
      "df_horr shape: (2000, 8)\n",
      "panicdisorder subscribers: 6445\n",
      "df_panic shape: (1979, 8)\n",
      "dread subscribers: 1566\n",
      "df_dread shape: (306, 8)\n",
      "bipolar subscribers: 155568\n",
      "df_bipo shape: (2000, 8)\n"
     ]
    }
   ],
   "source": [
    "# Call function and create DataFrame for emotional state - Fear.\n",
    "\n",
    "df_fear = pd.DataFrame(scrape_data('fear'))\n",
    "print(f'df_fear shape: {df_fear.shape}')\n",
    "\n",
    "df_horr = pd.DataFrame(scrape_data('horror'))\n",
    "print(f'df_horr shape: {df_horr.shape}')\n",
    "\n",
    "df_panic = pd.DataFrame(scrape_data('panicdisorder'))\n",
    "print(f'df_panic shape: {df_panic.shape}')\n",
    "\n",
    "df_dread = pd.DataFrame(scrape_data('dread'))\n",
    "print(f'df_dread shape: {df_dread.shape}')\n",
    "\n",
    "df_bipo = pd.DataFrame(scrape_data('bipolar'))\n",
    "print(f'df_bipo shape: {df_bipo.shape}')"
   ]
  },
  {
   "cell_type": "code",
   "execution_count": 72,
   "id": "f2d89346",
   "metadata": {},
   "outputs": [
    {
     "name": "stdout",
     "output_type": "stream",
     "text": [
      "6871\n"
     ]
    }
   ],
   "source": [
    "# Checking the total posts for Fear.\n",
    "print(df_fear.shape[0] + df_horr .shape[0] + df_panic.shape[0] + df_dread.shape[0] + df_bipo.shape[0])"
   ]
  },
  {
   "cell_type": "code",
   "execution_count": 73,
   "id": "9f22ee86",
   "metadata": {},
   "outputs": [
    {
     "name": "stdout",
     "output_type": "stream",
     "text": [
      "joy subscribers: 202\n",
      "df_joy shape: (188, 8)\n",
      "happiness subscribers: 9267\n",
      "df_happi shape: (2000, 8)\n",
      "happy subscribers: 436788\n",
      "df_happy shape: (2000, 8)\n",
      "appreciation subscribers: 409\n",
      "df_app shape: (184, 8)\n",
      "thankyou subscribers: 2091\n",
      "df_ty shape: (1082, 8)\n"
     ]
    }
   ],
   "source": [
    "# Call function and create DataFrame for emotional state - Joy.\n",
    "\n",
    "df_joy = pd.DataFrame(scrape_data('joy'))\n",
    "print(f'df_joy shape: {df_joy.shape}')\n",
    "\n",
    "df_happi = pd.DataFrame(scrape_data('happiness'))\n",
    "print(f'df_happi shape: {df_happi.shape}')\n",
    "\n",
    "df_happy = pd.DataFrame(scrape_data('happy'))\n",
    "print(f'df_happy shape: {df_happy.shape}')\n",
    "\n",
    "df_app = pd.DataFrame(scrape_data('appreciation'))\n",
    "print(f'df_app shape: {df_app.shape}')\n",
    "\n",
    "df_ty = pd.DataFrame(scrape_data('thankyou'))\n",
    "print(f'df_ty shape: {df_ty.shape}')\n"
   ]
  },
  {
   "cell_type": "code",
   "execution_count": 74,
   "id": "68ae1302",
   "metadata": {},
   "outputs": [
    {
     "name": "stdout",
     "output_type": "stream",
     "text": [
      "5454\n"
     ]
    }
   ],
   "source": [
    "# Checking the total posts for Joy.\n",
    "print(df_joy.shape[0] + df_happi .shape[0] + df_happy.shape[0] + df_app.shape[0] + df_ty .shape[0])"
   ]
  },
  {
   "cell_type": "code",
   "execution_count": 75,
   "id": "93e27f76",
   "metadata": {},
   "outputs": [
    {
     "name": "stdout",
     "output_type": "stream",
     "text": [
      "zen subscribers: 113672\n",
      "df_joy shape: (188, 8)\n",
      "zenhabits subscribers: 205627\n",
      "df_happi shape: (2000, 8)\n",
      "calm subscribers: 5095\n",
      "df_happy shape: (2000, 8)\n",
      "meditation subscribers: 728325\n",
      "df_app shape: (184, 8)\n"
     ]
    }
   ],
   "source": [
    "# Call function and create DataFrame for emotional state - Neutral.\n",
    "\n",
    "df_zen = pd.DataFrame(scrape_data('zen'))\n",
    "print(f'df_joy shape: {df_joy.shape}')\n",
    "\n",
    "df_zenhab = pd.DataFrame(scrape_data('zenhabits'))\n",
    "print(f'df_happi shape: {df_happi.shape}')\n",
    "\n",
    "df_calm = pd.DataFrame(scrape_data('calm'))\n",
    "print(f'df_happy shape: {df_happy.shape}')\n",
    "\n",
    "df_med = pd.DataFrame(scrape_data('meditation'))\n",
    "print(f'df_app shape: {df_app.shape}')\n"
   ]
  },
  {
   "cell_type": "code",
   "execution_count": 76,
   "id": "b0ffb447",
   "metadata": {},
   "outputs": [
    {
     "name": "stdout",
     "output_type": "stream",
     "text": [
      "7772\n"
     ]
    }
   ],
   "source": [
    "# Checking the total posts for Neutral.\n",
    "print(df_zen.shape[0] + df_zenhab .shape[0] + df_calm.shape[0] + df_med.shape[0])"
   ]
  },
  {
   "cell_type": "code",
   "execution_count": 77,
   "id": "53138785",
   "metadata": {},
   "outputs": [
    {
     "name": "stdout",
     "output_type": "stream",
     "text": [
      "sad subscribers: 122281\n",
      "df_sad shape: (2000, 8)\n",
      "sadness subscribers: 1450\n",
      "df_sadness shape: (948, 8)\n",
      "depression subscribers: 836714\n",
      "df_dep shape: (2000, 8)\n"
     ]
    }
   ],
   "source": [
    "# Call function and create DataFrame for emotional state - Sadness.\n",
    "\n",
    "df_sad = pd.DataFrame(scrape_data('sad'))\n",
    "print(f'df_sad shape: {df_sad.shape}')\n",
    "\n",
    "df_sadness = pd.DataFrame(scrape_data('sadness'))\n",
    "print(f'df_sadness shape: {df_sadness.shape}')\n",
    "\n",
    "df_dep = pd.DataFrame(scrape_data('depression'))\n",
    "print(f'df_dep shape: {df_dep.shape}')"
   ]
  },
  {
   "cell_type": "code",
   "execution_count": 78,
   "id": "b3d42f00",
   "metadata": {},
   "outputs": [
    {
     "name": "stdout",
     "output_type": "stream",
     "text": [
      "4948\n"
     ]
    }
   ],
   "source": [
    "# Checking the total posts for Sadness.\n",
    "print(df_sad.shape[0] + df_sadness .shape[0] + df_dep.shape[0])"
   ]
  },
  {
   "cell_type": "code",
   "execution_count": 79,
   "id": "e4853b33",
   "metadata": {},
   "outputs": [
    {
     "name": "stdout",
     "output_type": "stream",
     "text": [
      "surprise subscribers: 301\n",
      "df_surp shape: (322, 8)\n",
      "unexpected subscribers: 5223865\n",
      "df_unexp shape: (1996, 8)\n",
      "astonishing subscribers: 1634\n",
      "df_ast shape: (342, 8)\n",
      "amazing subscribers: 4715\n",
      "df_amaz shape: (1999, 8)\n",
      "shockingreality subscribers: 2983\n",
      "df_shock shape: (33, 8)\n"
     ]
    }
   ],
   "source": [
    "# Call function and create DataFrame for emotional state - Surprise.\n",
    "\n",
    "df_surp = pd.DataFrame(scrape_data('surprise'))\n",
    "print(f'df_surp shape: {df_surp.shape}')\n",
    "\n",
    "df_unexp = pd.DataFrame(scrape_data('unexpected'))\n",
    "print(f'df_unexp shape: {df_unexp.shape}')\n",
    "\n",
    "df_ast = pd.DataFrame(scrape_data('astonishing'))\n",
    "print(f'df_ast shape: {df_ast.shape}')\n",
    "\n",
    "df_amaz = pd.DataFrame(scrape_data('amazing'))\n",
    "print(f'df_amaz shape: {df_amaz.shape}')\n",
    "\n",
    "df_shock = pd.DataFrame(scrape_data('shockingreality'))\n",
    "print(f'df_shock shape: {df_shock.shape}')"
   ]
  },
  {
   "cell_type": "code",
   "execution_count": 80,
   "id": "1d3f2dce",
   "metadata": {},
   "outputs": [
    {
     "name": "stdout",
     "output_type": "stream",
     "text": [
      "4692\n"
     ]
    }
   ],
   "source": [
    "# Checking the total posts for Surprise.\n",
    "print(df_surp.shape[0] + df_unexp .shape[0] + df_ast.shape[0] + df_amaz.shape[0] + df_shock.shape[0])"
   ]
  },
  {
   "cell_type": "code",
   "execution_count": 86,
   "id": "e0988e3e",
   "metadata": {},
   "outputs": [
    {
     "name": "stdout",
     "output_type": "stream",
     "text": [
      "(39633, 8)\n"
     ]
    },
    {
     "data": {
      "text/html": [
       "<div>\n",
       "<style scoped>\n",
       "    .dataframe tbody tr th:only-of-type {\n",
       "        vertical-align: middle;\n",
       "    }\n",
       "\n",
       "    .dataframe tbody tr th {\n",
       "        vertical-align: top;\n",
       "    }\n",
       "\n",
       "    .dataframe thead th {\n",
       "        text-align: right;\n",
       "    }\n",
       "</style>\n",
       "<table border=\"1\" class=\"dataframe\">\n",
       "  <thead>\n",
       "    <tr style=\"text-align: right;\">\n",
       "      <th></th>\n",
       "      <th>subreddit</th>\n",
       "      <th>author</th>\n",
       "      <th>domain</th>\n",
       "      <th>title</th>\n",
       "      <th>selftext</th>\n",
       "    </tr>\n",
       "  </thead>\n",
       "  <tbody>\n",
       "    <tr>\n",
       "      <th>0</th>\n",
       "      <td>Anger</td>\n",
       "      <td>RIPplzHelpMeRN</td>\n",
       "      <td>self.Anger</td>\n",
       "      <td>I Have Anger 'Problems' Apparently</td>\n",
       "      <td>In my opinion it is just my natural feelings, ...</td>\n",
       "    </tr>\n",
       "    <tr>\n",
       "      <th>1</th>\n",
       "      <td>Anger</td>\n",
       "      <td>aboowwabooww</td>\n",
       "      <td>self.Anger</td>\n",
       "      <td>I need help</td>\n",
       "      <td>I have undiagnosed and untreated adhd since 15...</td>\n",
       "    </tr>\n",
       "    <tr>\n",
       "      <th>2</th>\n",
       "      <td>Anger</td>\n",
       "      <td>69andeverything</td>\n",
       "      <td>self.Anger</td>\n",
       "      <td>How can someone who doesn't get angry help my ...</td>\n",
       "      <td>I (17F) never get angry, it's something I find...</td>\n",
       "    </tr>\n",
       "    <tr>\n",
       "      <th>3</th>\n",
       "      <td>Anger</td>\n",
       "      <td>mailception</td>\n",
       "      <td>self.Anger</td>\n",
       "      <td>how I make it stop ? anyone please ?</td>\n",
       "      <td>All I can explain is a deep rooted anger I fee...</td>\n",
       "    </tr>\n",
       "    <tr>\n",
       "      <th>4</th>\n",
       "      <td>Anger</td>\n",
       "      <td>lemonsandrosemary</td>\n",
       "      <td>self.Anger</td>\n",
       "      <td>Shattered a Window Today</td>\n",
       "      <td>Just like the title says. Live on my own, Fath...</td>\n",
       "    </tr>\n",
       "  </tbody>\n",
       "</table>\n",
       "</div>"
      ],
      "text/plain": [
       "  subreddit             author      domain  \\\n",
       "0     Anger     RIPplzHelpMeRN  self.Anger   \n",
       "1     Anger       aboowwabooww  self.Anger   \n",
       "2     Anger    69andeverything  self.Anger   \n",
       "3     Anger        mailception  self.Anger   \n",
       "4     Anger  lemonsandrosemary  self.Anger   \n",
       "\n",
       "                                               title  \\\n",
       "0                 I Have Anger 'Problems' Apparently   \n",
       "1                                        I need help   \n",
       "2  How can someone who doesn't get angry help my ...   \n",
       "3               how I make it stop ? anyone please ?   \n",
       "4                           Shattered a Window Today   \n",
       "\n",
       "                                            selftext  \n",
       "0  In my opinion it is just my natural feelings, ...  \n",
       "1  I have undiagnosed and untreated adhd since 15...  \n",
       "2  I (17F) never get angry, it's something I find...  \n",
       "3  All I can explain is a deep rooted anger I fee...  \n",
       "4  Just like the title says. Live on my own, Fath...  "
      ]
     },
     "execution_count": 86,
     "metadata": {},
     "output_type": "execute_result"
    }
   ],
   "source": [
    "# Combining the dfs of all emotions.\n",
    "df = pd.concat([df_anger, df_exasp, df_rage, df_vex, #Anger\n",
    "           df_disgust, df_awful, df_yuck, #Disgust\n",
    "           df_fear, df_horr, df_panic, df_dread, df_bipo, #Fear\n",
    "           df_joy, df_happi, df_happy, df_app, df_ty, #Joy\n",
    "           df_zen, df_zenhab, df_calm, df_med, #Neutral\n",
    "           df_sad, df_sadness, df_dep, #Sadness\n",
    "           df_surp, df_unexp, df_ast, df_amaz, df_shock #Surprise\n",
    "          ])\n",
    "\n",
    "print(df.shape)\n",
    "df = df[['subreddit', 'author', 'domain', 'title', 'selftext']]\n",
    "df.head()"
   ]
  },
  {
   "cell_type": "markdown",
   "id": "a4f7b5c0",
   "metadata": {},
   "source": [
    "Considering each of the 6 emotions did not have an equal number of posts, I will have to do a stratify later when modelling. "
   ]
  },
  {
   "cell_type": "code",
   "execution_count": 87,
   "id": "676308de",
   "metadata": {},
   "outputs": [],
   "source": [
    "# Save data to csv\n",
    "df.to_csv('../datasets/df.csv', index=False)\n"
   ]
  },
  {
   "cell_type": "code",
   "execution_count": null,
   "id": "da1c0526",
   "metadata": {},
   "outputs": [],
   "source": []
  }
 ],
 "metadata": {
  "kernelspec": {
   "display_name": "Python 3",
   "language": "python",
   "name": "python3"
  },
  "language_info": {
   "codemirror_mode": {
    "name": "ipython",
    "version": 3
   },
   "file_extension": ".py",
   "mimetype": "text/x-python",
   "name": "python",
   "nbconvert_exporter": "python",
   "pygments_lexer": "ipython3",
   "version": "3.8.8"
  }
 },
 "nbformat": 4,
 "nbformat_minor": 5
}
