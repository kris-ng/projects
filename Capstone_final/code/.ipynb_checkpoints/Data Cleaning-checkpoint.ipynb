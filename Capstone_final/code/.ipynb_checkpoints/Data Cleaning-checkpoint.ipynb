{
 "cells": [
  {
   "cell_type": "code",
   "execution_count": 1,
   "id": "49e8ec9e",
   "metadata": {},
   "outputs": [],
   "source": []
  },
  {
   "cell_type": "code",
   "execution_count": null,
   "id": "fc114c43",
   "metadata": {},
   "outputs": [],
   "source": [
    "# Doing the necessary import to carry out data cleaning. \n",
    "import pandas as pd"
   ]
  },
  {
   "cell_type": "code",
   "execution_count": 2,
   "id": "527cbd13",
   "metadata": {},
   "outputs": [
    {
     "name": "stdout",
     "output_type": "stream",
     "text": [
      "(39633, 5)\n"
     ]
    },
    {
     "data": {
      "text/html": [
       "<div>\n",
       "<style scoped>\n",
       "    .dataframe tbody tr th:only-of-type {\n",
       "        vertical-align: middle;\n",
       "    }\n",
       "\n",
       "    .dataframe tbody tr th {\n",
       "        vertical-align: top;\n",
       "    }\n",
       "\n",
       "    .dataframe thead th {\n",
       "        text-align: right;\n",
       "    }\n",
       "</style>\n",
       "<table border=\"1\" class=\"dataframe\">\n",
       "  <thead>\n",
       "    <tr style=\"text-align: right;\">\n",
       "      <th></th>\n",
       "      <th>subreddit</th>\n",
       "      <th>author</th>\n",
       "      <th>domain</th>\n",
       "      <th>title</th>\n",
       "      <th>selftext</th>\n",
       "    </tr>\n",
       "  </thead>\n",
       "  <tbody>\n",
       "    <tr>\n",
       "      <th>0</th>\n",
       "      <td>Anger</td>\n",
       "      <td>RIPplzHelpMeRN</td>\n",
       "      <td>self.Anger</td>\n",
       "      <td>I Have Anger 'Problems' Apparently</td>\n",
       "      <td>In my opinion it is just my natural feelings, ...</td>\n",
       "    </tr>\n",
       "    <tr>\n",
       "      <th>1</th>\n",
       "      <td>Anger</td>\n",
       "      <td>aboowwabooww</td>\n",
       "      <td>self.Anger</td>\n",
       "      <td>I need help</td>\n",
       "      <td>I have undiagnosed and untreated adhd since 15...</td>\n",
       "    </tr>\n",
       "    <tr>\n",
       "      <th>2</th>\n",
       "      <td>Anger</td>\n",
       "      <td>69andeverything</td>\n",
       "      <td>self.Anger</td>\n",
       "      <td>How can someone who doesn't get angry help my ...</td>\n",
       "      <td>I (17F) never get angry, it's something I find...</td>\n",
       "    </tr>\n",
       "    <tr>\n",
       "      <th>3</th>\n",
       "      <td>Anger</td>\n",
       "      <td>mailception</td>\n",
       "      <td>self.Anger</td>\n",
       "      <td>how I make it stop ? anyone please ?</td>\n",
       "      <td>All I can explain is a deep rooted anger I fee...</td>\n",
       "    </tr>\n",
       "    <tr>\n",
       "      <th>4</th>\n",
       "      <td>Anger</td>\n",
       "      <td>lemonsandrosemary</td>\n",
       "      <td>self.Anger</td>\n",
       "      <td>Shattered a Window Today</td>\n",
       "      <td>Just like the title says. Live on my own, Fath...</td>\n",
       "    </tr>\n",
       "  </tbody>\n",
       "</table>\n",
       "</div>"
      ],
      "text/plain": [
       "  subreddit             author      domain  \\\n",
       "0     Anger     RIPplzHelpMeRN  self.Anger   \n",
       "1     Anger       aboowwabooww  self.Anger   \n",
       "2     Anger    69andeverything  self.Anger   \n",
       "3     Anger        mailception  self.Anger   \n",
       "4     Anger  lemonsandrosemary  self.Anger   \n",
       "\n",
       "                                               title  \\\n",
       "0                 I Have Anger 'Problems' Apparently   \n",
       "1                                        I need help   \n",
       "2  How can someone who doesn't get angry help my ...   \n",
       "3               how I make it stop ? anyone please ?   \n",
       "4                           Shattered a Window Today   \n",
       "\n",
       "                                            selftext  \n",
       "0  In my opinion it is just my natural feelings, ...  \n",
       "1  I have undiagnosed and untreated adhd since 15...  \n",
       "2  I (17F) never get angry, it's something I find...  \n",
       "3  All I can explain is a deep rooted anger I fee...  \n",
       "4  Just like the title says. Live on my own, Fath...  "
      ]
     },
     "execution_count": 2,
     "metadata": {},
     "output_type": "execute_result"
    }
   ],
   "source": [
    "# Read df.\n",
    "df = pd.read_csv('../datasets/df.csv')\n",
    "print(df.shape)\n",
    "df.head()"
   ]
  },
  {
   "cell_type": "code",
   "execution_count": 3,
   "id": "f8c72ea9",
   "metadata": {},
   "outputs": [
    {
     "name": "stdout",
     "output_type": "stream",
     "text": [
      "<class 'pandas.core.frame.DataFrame'>\n",
      "RangeIndex: 39633 entries, 0 to 39632\n",
      "Data columns (total 5 columns):\n",
      " #   Column     Non-Null Count  Dtype \n",
      "---  ------     --------------  ----- \n",
      " 0   subreddit  39633 non-null  object\n",
      " 1   author     39633 non-null  object\n",
      " 2   domain     39631 non-null  object\n",
      " 3   title      39633 non-null  object\n",
      " 4   selftext   19891 non-null  object\n",
      "dtypes: object(5)\n",
      "memory usage: 1.5+ MB\n"
     ]
    }
   ],
   "source": [
    "# Checking for missing cells.\n",
    "df.info()"
   ]
  },
  {
   "cell_type": "markdown",
   "id": "d21c2b69",
   "metadata": {},
   "source": [
    "Quite a number of rows in selftext that is empty. I will be combining title with selftext to analyse together."
   ]
  },
  {
   "cell_type": "code",
   "execution_count": 6,
   "id": "c05f1002",
   "metadata": {},
   "outputs": [],
   "source": [
    "# There are some rows in selftext that are null. \n",
    "# I fillna with '' so that further down, I can combine title and selftext as a single column.\n",
    "df.fillna('',inplace=True)"
   ]
  },
  {
   "cell_type": "code",
   "execution_count": 7,
   "id": "92aaba0b",
   "metadata": {},
   "outputs": [
    {
     "data": {
      "text/html": [
       "<div>\n",
       "<style scoped>\n",
       "    .dataframe tbody tr th:only-of-type {\n",
       "        vertical-align: middle;\n",
       "    }\n",
       "\n",
       "    .dataframe tbody tr th {\n",
       "        vertical-align: top;\n",
       "    }\n",
       "\n",
       "    .dataframe thead th {\n",
       "        text-align: right;\n",
       "    }\n",
       "</style>\n",
       "<table border=\"1\" class=\"dataframe\">\n",
       "  <thead>\n",
       "    <tr style=\"text-align: right;\">\n",
       "      <th></th>\n",
       "      <th>subreddit</th>\n",
       "      <th>author</th>\n",
       "      <th>domain</th>\n",
       "      <th>title</th>\n",
       "      <th>selftext</th>\n",
       "      <th>post</th>\n",
       "    </tr>\n",
       "  </thead>\n",
       "  <tbody>\n",
       "    <tr>\n",
       "      <th>0</th>\n",
       "      <td>Anger</td>\n",
       "      <td>RIPplzHelpMeRN</td>\n",
       "      <td>self.Anger</td>\n",
       "      <td>I Have Anger 'Problems' Apparently</td>\n",
       "      <td>In my opinion it is just my natural feelings, ...</td>\n",
       "      <td>I Have Anger 'Problems' Apparently In my opini...</td>\n",
       "    </tr>\n",
       "    <tr>\n",
       "      <th>1</th>\n",
       "      <td>Anger</td>\n",
       "      <td>aboowwabooww</td>\n",
       "      <td>self.Anger</td>\n",
       "      <td>I need help</td>\n",
       "      <td>I have undiagnosed and untreated adhd since 15...</td>\n",
       "      <td>I need help I have undiagnosed and untreated a...</td>\n",
       "    </tr>\n",
       "    <tr>\n",
       "      <th>2</th>\n",
       "      <td>Anger</td>\n",
       "      <td>69andeverything</td>\n",
       "      <td>self.Anger</td>\n",
       "      <td>How can someone who doesn't get angry help my ...</td>\n",
       "      <td>I (17F) never get angry, it's something I find...</td>\n",
       "      <td>How can someone who doesn't get angry help my ...</td>\n",
       "    </tr>\n",
       "    <tr>\n",
       "      <th>3</th>\n",
       "      <td>Anger</td>\n",
       "      <td>mailception</td>\n",
       "      <td>self.Anger</td>\n",
       "      <td>how I make it stop ? anyone please ?</td>\n",
       "      <td>All I can explain is a deep rooted anger I fee...</td>\n",
       "      <td>how I make it stop ? anyone please ? All I can...</td>\n",
       "    </tr>\n",
       "    <tr>\n",
       "      <th>4</th>\n",
       "      <td>Anger</td>\n",
       "      <td>lemonsandrosemary</td>\n",
       "      <td>self.Anger</td>\n",
       "      <td>Shattered a Window Today</td>\n",
       "      <td>Just like the title says. Live on my own, Fath...</td>\n",
       "      <td>Shattered a Window Today Just like the title s...</td>\n",
       "    </tr>\n",
       "  </tbody>\n",
       "</table>\n",
       "</div>"
      ],
      "text/plain": [
       "  subreddit             author      domain  \\\n",
       "0     Anger     RIPplzHelpMeRN  self.Anger   \n",
       "1     Anger       aboowwabooww  self.Anger   \n",
       "2     Anger    69andeverything  self.Anger   \n",
       "3     Anger        mailception  self.Anger   \n",
       "4     Anger  lemonsandrosemary  self.Anger   \n",
       "\n",
       "                                               title  \\\n",
       "0                 I Have Anger 'Problems' Apparently   \n",
       "1                                        I need help   \n",
       "2  How can someone who doesn't get angry help my ...   \n",
       "3               how I make it stop ? anyone please ?   \n",
       "4                           Shattered a Window Today   \n",
       "\n",
       "                                            selftext  \\\n",
       "0  In my opinion it is just my natural feelings, ...   \n",
       "1  I have undiagnosed and untreated adhd since 15...   \n",
       "2  I (17F) never get angry, it's something I find...   \n",
       "3  All I can explain is a deep rooted anger I fee...   \n",
       "4  Just like the title says. Live on my own, Fath...   \n",
       "\n",
       "                                                post  \n",
       "0  I Have Anger 'Problems' Apparently In my opini...  \n",
       "1  I need help I have undiagnosed and untreated a...  \n",
       "2  How can someone who doesn't get angry help my ...  \n",
       "3  how I make it stop ? anyone please ? All I can...  \n",
       "4  Shattered a Window Today Just like the title s...  "
      ]
     },
     "execution_count": 7,
     "metadata": {},
     "output_type": "execute_result"
    }
   ],
   "source": [
    "# Combining title and selftext.\n",
    "df['post'] = df['title'] + \" \" + df['selftext'].astype(str)\n",
    "\n",
    "df.head()"
   ]
  },
  {
   "cell_type": "code",
   "execution_count": 8,
   "id": "2840e50c",
   "metadata": {},
   "outputs": [
    {
     "data": {
      "text/plain": [
       "subreddit    0\n",
       "author       0\n",
       "domain       0\n",
       "title        0\n",
       "selftext     0\n",
       "post         0\n",
       "dtype: int64"
      ]
     },
     "execution_count": 8,
     "metadata": {},
     "output_type": "execute_result"
    }
   ],
   "source": [
    "# Checking that there are no more null cells.\n",
    "df.isna().sum()"
   ]
  },
  {
   "cell_type": "code",
   "execution_count": 9,
   "id": "878d032a",
   "metadata": {},
   "outputs": [
    {
     "data": {
      "text/plain": [
       "array(['Anger', '30473', '29535', 'exasperations', 'rage', 'vex',\n",
       "       'disgusting', 'Cum flavoured wings', 'Licking A Cow Patty',\n",
       "       'awfuleverything', 'Yuck', 'fear',\n",
       "       'Клаустрофобия | как избавиться от клаустрофобии | боязнь замкнутого пространства - YouTube',\n",
       "       'психоанализ | психология личности | личность человек психология - YouTube',\n",
       "       'This game seems super spooky!',\n",
       "       'бессонница | как бороться с бессонницей | как избавиться от бессонницы | причины бессонницы здоровье - YouTube',\n",
       "       'как избавиться от стресса | борьба со стрессом | здоровье стрессоустойчивость - YouTube',\n",
       "       'EXPLORING A SCARY CONSTRUCTION SITE (SCREAMING)!', 'horror',\n",
       "       '2538189', '2537477', '2536670', '2534932', '2534332', '2532252',\n",
       "       'panicdisorder', 'dread', 'bipolar', 'Joy', 'happiness', 'happy',\n",
       "       '436768', '433104', '433100', 'Appreciation',\n",
       "       'Has anyone else found that, during a depressive episode, you tend to appreciate your environmental surroundings? I.e scenery',\n",
       "       'ThankYou', 'Tally ERP 9 Crack Release 6.0.3 Full Serial Key',\n",
       "       'unique-thank-you-gifts-when-words-are-not-enough', 'zen',\n",
       "       '113377', '112843', '112286', '111925', '111517', '111277',\n",
       "       '111271', '111268', '110164', '109271', '109234', '108745',\n",
       "       'ZenHabits', 'calm', 'Meditation', '727592', '726384', '721987',\n",
       "       'sad', '120251', 'Sadness',\n",
       "       \"It's sad when your bestfriend turns into the person they swore they wouldn't become\",\n",
       "       'depression', '836395', 'Surprise', '254', 'Unexpected',\n",
       "       'Astonishing', 'Amazing', 'ShockingReality'], dtype=object)"
      ]
     },
     "execution_count": 9,
     "metadata": {},
     "output_type": "execute_result"
    }
   ],
   "source": [
    "# Checking on the rows in the 'subreddit' column.\n",
    "df['subreddit'].unique()"
   ]
  },
  {
   "cell_type": "code",
   "execution_count": 10,
   "id": "2d33b97e",
   "metadata": {},
   "outputs": [],
   "source": [
    "# Will only take the rows with the correctly labelled 'subreddit' names.\n",
    "emotions = ['Anger', 'exasperations', 'rage', 'vex', \n",
    "            'disgusting', 'awfuleverything', 'Yuck', \n",
    "            'fear', 'horror', 'panicdisorder', 'dread', 'bipolar', \n",
    "           'Joy', 'happiness', 'happy', 'Appreciation', 'ThankYou',\n",
    "           'zen', 'ZenHabits', 'calm', 'Meditation', \n",
    "           'sad', 'Sadness', 'depression',\n",
    "           'Surprise', 'Unexpected', 'Astonishing', 'Amazing', 'ShockingReality']\n",
    "\n",
    "# Dropping the rows where the 'subreddit' rows are not those listed in emotions.\n",
    "df = df[df['subreddit'].isin(emotions)]"
   ]
  },
  {
   "cell_type": "code",
   "execution_count": 14,
   "id": "8db445ce",
   "metadata": {},
   "outputs": [],
   "source": [
    "# Creating new column for length of post.\n",
    "df['post_length'] = df['post'].str.len()"
   ]
  },
  {
   "cell_type": "code",
   "execution_count": 15,
   "id": "9f15f181",
   "metadata": {},
   "outputs": [],
   "source": [
    "# Classifying based on Eckhart's 7 emotional states.\n",
    "df['emotion'] = df['subreddit'].map({'Anger' : 'Anger', 'exasperations': 'Anger', 'rage': 'Anger', 'vex': 'Anger', \n",
    "                'disgusting': 'Disgust', 'awfuleverything': 'Disgust', 'Yuck': 'Disgust', \n",
    "                'fear': 'Fear', 'horror': 'Fear', 'panicdisorder': 'Fear', 'dread': 'Fear', 'bipolar': 'Fear', \n",
    "                'Joy': 'Joy', 'happiness': 'Joy', 'happy': 'Joy', 'Appreciation': 'Joy', 'ThankYou': 'Joy', \n",
    "                'zen': 'Neutral', 'ZenHabits': 'Neutral', 'calm': 'Neutral', 'Meditation': 'Neutral', \n",
    "                'sad': 'Sadness', 'Sadness': 'Sadness', 'depression': 'Sadness', \n",
    "                'Surprise': 'Surprise', 'Unexpected': 'Surprise', 'Astonishing': 'Surprise', 'Amazing': 'Surprise', 'ShockingReality': 'Surprise'})"
   ]
  },
  {
   "cell_type": "code",
   "execution_count": 20,
   "id": "190493aa",
   "metadata": {},
   "outputs": [],
   "source": [
    "# Keeping only the columns that are necessary.\n",
    "df = df[['emotion', 'author', 'post', 'post_length']]"
   ]
  },
  {
   "cell_type": "code",
   "execution_count": 21,
   "id": "d4a8bc9a",
   "metadata": {},
   "outputs": [],
   "source": [
    "# Save data to csv\n",
    "df.to_csv('../datasets/cleaned_df.csv', index=False)"
   ]
  },
  {
   "cell_type": "code",
   "execution_count": null,
   "id": "fe47e394",
   "metadata": {},
   "outputs": [],
   "source": []
  }
 ],
 "metadata": {
  "kernelspec": {
   "display_name": "Python 3",
   "language": "python",
   "name": "python3"
  },
  "language_info": {
   "codemirror_mode": {
    "name": "ipython",
    "version": 3
   },
   "file_extension": ".py",
   "mimetype": "text/x-python",
   "name": "python",
   "nbconvert_exporter": "python",
   "pygments_lexer": "ipython3",
   "version": "3.8.8"
  }
 },
 "nbformat": 4,
 "nbformat_minor": 5
}
