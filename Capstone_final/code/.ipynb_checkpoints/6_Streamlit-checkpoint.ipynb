{
 "cells": [
  {
   "cell_type": "markdown",
   "id": "2b4afa21-4903-4b88-9363-5a1a6ddbe9e4",
   "metadata": {},
   "source": [
    "## Streamlit - application of model"
   ]
  },
  {
   "cell_type": "code",
   "execution_count": 1,
   "id": "393302be-669f-4fec-bda1-ca6ba06d7a77",
   "metadata": {},
   "outputs": [],
   "source": [
    "import sklearn"
   ]
  },
  {
   "cell_type": "code",
   "execution_count": 2,
   "id": "ee063fbd-c260-49f8-a1fa-587a8a877e0d",
   "metadata": {},
   "outputs": [
    {
     "name": "stderr",
     "output_type": "stream",
     "text": [
      "2022-04-05 12:50:28.306 INFO    numexpr.utils: NumExpr defaulting to 8 threads.\n"
     ]
    }
   ],
   "source": [
    "import streamlit as st\n",
    "import requests\n",
    "import pandas as pd\n",
    "import numpy as np\n",
    "import pickle\n",
    "from collections import Counter"
   ]
  },
  {
   "cell_type": "code",
   "execution_count": 6,
   "id": "804ca330-5263-4b15-8542-4bc50caeb7c5",
   "metadata": {
    "scrolled": true,
    "tags": []
   },
   "outputs": [
    {
     "name": "stdout",
     "output_type": "stream",
     "text": [
      "Requirement already satisfied: pycaret in c:\\users\\krispy\\anaconda3\\envs\\environment\\lib\\site-packages (2.3.9)\n",
      "Requirement already satisfied: lightgbm>=2.3.1 in c:\\users\\krispy\\anaconda3\\envs\\environment\\lib\\site-packages (from pycaret) (3.3.2)\n",
      "Requirement already satisfied: textblob in c:\\users\\krispy\\anaconda3\\envs\\environment\\lib\\site-packages (from pycaret) (0.17.1)\n",
      "Requirement already satisfied: nltk in c:\\users\\krispy\\anaconda3\\envs\\environment\\lib\\site-packages (from pycaret) (3.7)\n",
      "Requirement already satisfied: scikit-plot in c:\\users\\krispy\\anaconda3\\envs\\environment\\lib\\site-packages (from pycaret) (0.3.7)\n",
      "Requirement already satisfied: pyyaml<6.0.0 in c:\\users\\krispy\\anaconda3\\envs\\environment\\lib\\site-packages (from pycaret) (5.4.1)\n",
      "Requirement already satisfied: seaborn in c:\\users\\krispy\\anaconda3\\envs\\environment\\lib\\site-packages (from pycaret) (0.11.2)\n",
      "Requirement already satisfied: ipywidgets in c:\\users\\krispy\\anaconda3\\envs\\environment\\lib\\site-packages (from pycaret) (7.7.0)\n",
      "Requirement already satisfied: plotly>=4.4.1 in c:\\users\\krispy\\anaconda3\\envs\\environment\\lib\\site-packages (from pycaret) (5.6.0)\n",
      "Requirement already satisfied: matplotlib in c:\\users\\krispy\\anaconda3\\envs\\environment\\lib\\site-packages (from pycaret) (3.5.1)\n",
      "Requirement already satisfied: numba<0.55 in c:\\users\\krispy\\anaconda3\\envs\\environment\\lib\\site-packages (from pycaret) (0.54.1)\n",
      "Requirement already satisfied: pandas-profiling>=2.8.0 in c:\\users\\krispy\\anaconda3\\envs\\environment\\lib\\site-packages (from pycaret) (3.1.0)\n",
      "Requirement already satisfied: gensim<4.0.0 in c:\\users\\krispy\\anaconda3\\envs\\environment\\lib\\site-packages (from pycaret) (3.8.3)\n",
      "Requirement already satisfied: yellowbrick>=1.0.1 in c:\\users\\krispy\\anaconda3\\envs\\environment\\lib\\site-packages (from pycaret) (1.3.post1)\n",
      "Requirement already satisfied: Boruta in c:\\users\\krispy\\anaconda3\\envs\\environment\\lib\\site-packages (from pycaret) (0.3)\n",
      "Requirement already satisfied: joblib in c:\\users\\krispy\\anaconda3\\envs\\environment\\lib\\site-packages (from pycaret) (1.0.1)\n",
      "Requirement already satisfied: pyod in c:\\users\\krispy\\anaconda3\\envs\\environment\\lib\\site-packages (from pycaret) (0.9.8)\n",
      "Requirement already satisfied: scipy<=1.5.4 in c:\\users\\krispy\\anaconda3\\envs\\environment\\lib\\site-packages (from pycaret) (1.5.4)\n",
      "Requirement already satisfied: mlxtend>=0.17.0 in c:\\users\\krispy\\anaconda3\\envs\\environment\\lib\\site-packages (from pycaret) (0.19.0)\n",
      "Requirement already satisfied: IPython in c:\\users\\krispy\\anaconda3\\envs\\environment\\lib\\site-packages (from pycaret) (8.2.0)\n",
      "Requirement already satisfied: imbalanced-learn==0.7.0 in c:\\users\\krispy\\anaconda3\\envs\\environment\\lib\\site-packages (from pycaret) (0.7.0)\n",
      "Requirement already satisfied: pandas in c:\\users\\krispy\\anaconda3\\envs\\environment\\lib\\site-packages (from pycaret) (1.4.1)\n",
      "Requirement already satisfied: kmodes>=0.10.1 in c:\\users\\krispy\\anaconda3\\envs\\environment\\lib\\site-packages (from pycaret) (0.11.1)\n",
      "Requirement already satisfied: cufflinks>=0.17.0 in c:\\users\\krispy\\anaconda3\\envs\\environment\\lib\\site-packages (from pycaret) (0.17.3)\n",
      "Requirement already satisfied: scikit-learn==0.23.2 in c:\\users\\krispy\\anaconda3\\envs\\environment\\lib\\site-packages (from pycaret) (0.23.2)\n",
      "Requirement already satisfied: umap-learn in c:\\users\\krispy\\anaconda3\\envs\\environment\\lib\\site-packages (from pycaret) (0.5.2)\n",
      "Requirement already satisfied: spacy<2.4.0 in c:\\users\\krispy\\anaconda3\\envs\\environment\\lib\\site-packages (from pycaret) (2.3.7)\n",
      "Requirement already satisfied: mlflow in c:\\users\\krispy\\anaconda3\\envs\\environment\\lib\\site-packages (from pycaret) (1.24.0)\n",
      "Requirement already satisfied: wordcloud in c:\\users\\krispy\\anaconda3\\envs\\environment\\lib\\site-packages (from pycaret) (1.8.1)\n",
      "Requirement already satisfied: pyLDAvis in c:\\users\\krispy\\anaconda3\\envs\\environment\\lib\\site-packages (from pycaret) (3.2.2)\n",
      "Requirement already satisfied: numpy>=1.13.3 in c:\\users\\krispy\\anaconda3\\envs\\environment\\lib\\site-packages (from imbalanced-learn==0.7.0->pycaret) (1.19.5)\n",
      "Requirement already satisfied: threadpoolctl>=2.0.0 in c:\\users\\krispy\\anaconda3\\envs\\environment\\lib\\site-packages (from scikit-learn==0.23.2->pycaret) (3.1.0)\n",
      "Requirement already satisfied: colorlover>=0.2.1 in c:\\users\\krispy\\anaconda3\\envs\\environment\\lib\\site-packages (from cufflinks>=0.17.0->pycaret) (0.3.0)\n",
      "Requirement already satisfied: setuptools>=34.4.1 in c:\\users\\krispy\\anaconda3\\envs\\environment\\lib\\site-packages (from cufflinks>=0.17.0->pycaret) (58.0.4)\n",
      "Requirement already satisfied: six>=1.9.0 in c:\\users\\krispy\\anaconda3\\envs\\environment\\lib\\site-packages (from cufflinks>=0.17.0->pycaret) (1.16.0)\n",
      "Requirement already satisfied: Cython==0.29.14 in c:\\users\\krispy\\anaconda3\\envs\\environment\\lib\\site-packages (from gensim<4.0.0->pycaret) (0.29.14)\n",
      "Requirement already satisfied: smart-open>=1.8.1 in c:\\users\\krispy\\anaconda3\\envs\\environment\\lib\\site-packages (from gensim<4.0.0->pycaret) (5.2.1)\n",
      "Requirement already satisfied: jedi>=0.16 in c:\\users\\krispy\\anaconda3\\envs\\environment\\lib\\site-packages (from IPython->pycaret) (0.18.1)\n",
      "Requirement already satisfied: pickleshare in c:\\users\\krispy\\anaconda3\\envs\\environment\\lib\\site-packages (from IPython->pycaret) (0.7.5)\n",
      "Requirement already satisfied: stack-data in c:\\users\\krispy\\anaconda3\\envs\\environment\\lib\\site-packages (from IPython->pycaret) (0.2.0)\n",
      "Requirement already satisfied: colorama in c:\\users\\krispy\\anaconda3\\envs\\environment\\lib\\site-packages (from IPython->pycaret) (0.4.4)\n",
      "Requirement already satisfied: prompt-toolkit!=3.0.0,!=3.0.1,<3.1.0,>=2.0.0 in c:\\users\\krispy\\anaconda3\\envs\\environment\\lib\\site-packages (from IPython->pycaret) (3.0.28)\n",
      "Requirement already satisfied: matplotlib-inline in c:\\users\\krispy\\anaconda3\\envs\\environment\\lib\\site-packages (from IPython->pycaret) (0.1.3)\n",
      "Requirement already satisfied: decorator in c:\\users\\krispy\\anaconda3\\envs\\environment\\lib\\site-packages (from IPython->pycaret) (5.1.1)\n",
      "Requirement already satisfied: pygments>=2.4.0 in c:\\users\\krispy\\anaconda3\\envs\\environment\\lib\\site-packages (from IPython->pycaret) (2.11.2)\n",
      "Requirement already satisfied: backcall in c:\\users\\krispy\\anaconda3\\envs\\environment\\lib\\site-packages (from IPython->pycaret) (0.2.0)\n",
      "Requirement already satisfied: traitlets>=5 in c:\\users\\krispy\\anaconda3\\envs\\environment\\lib\\site-packages (from IPython->pycaret) (5.1.1)\n",
      "Requirement already satisfied: widgetsnbextension~=3.6.0 in c:\\users\\krispy\\anaconda3\\envs\\environment\\lib\\site-packages (from ipywidgets->pycaret) (3.6.0)\n",
      "Requirement already satisfied: ipykernel>=4.5.1 in c:\\users\\krispy\\anaconda3\\envs\\environment\\lib\\site-packages (from ipywidgets->pycaret) (6.10.0)\n",
      "Requirement already satisfied: jupyterlab-widgets>=1.0.0 in c:\\users\\krispy\\anaconda3\\envs\\environment\\lib\\site-packages (from ipywidgets->pycaret) (1.1.0)\n",
      "Requirement already satisfied: nbformat>=4.2.0 in c:\\users\\krispy\\anaconda3\\envs\\environment\\lib\\site-packages (from ipywidgets->pycaret) (5.2.0)\n",
      "Requirement already satisfied: ipython-genutils~=0.2.0 in c:\\users\\krispy\\anaconda3\\envs\\environment\\lib\\site-packages (from ipywidgets->pycaret) (0.2.0)\n",
      "Requirement already satisfied: wheel in c:\\users\\krispy\\anaconda3\\envs\\environment\\lib\\site-packages (from lightgbm>=2.3.1->pycaret) (0.37.1)\n",
      "Requirement already satisfied: kiwisolver>=1.0.1 in c:\\users\\krispy\\anaconda3\\envs\\environment\\lib\\site-packages (from matplotlib->pycaret) (1.4.2)\n",
      "Requirement already satisfied: fonttools>=4.22.0 in c:\\users\\krispy\\anaconda3\\envs\\environment\\lib\\site-packages (from matplotlib->pycaret) (4.31.2)\n",
      "Requirement already satisfied: cycler>=0.10 in c:\\users\\krispy\\anaconda3\\envs\\environment\\lib\\site-packages (from matplotlib->pycaret) (0.11.0)\n",
      "Requirement already satisfied: pillow>=6.2.0 in c:\\users\\krispy\\anaconda3\\envs\\environment\\lib\\site-packages (from matplotlib->pycaret) (9.0.1)\n",
      "Requirement already satisfied: python-dateutil>=2.7 in c:\\users\\krispy\\anaconda3\\envs\\environment\\lib\\site-packages (from matplotlib->pycaret) (2.8.2)\n",
      "Requirement already satisfied: pyparsing>=2.2.1 in c:\\users\\krispy\\anaconda3\\envs\\environment\\lib\\site-packages (from matplotlib->pycaret) (3.0.7)\n",
      "Requirement already satisfied: packaging>=20.0 in c:\\users\\krispy\\anaconda3\\envs\\environment\\lib\\site-packages (from matplotlib->pycaret) (21.3)\n",
      "Requirement already satisfied: llvmlite<0.38,>=0.37.0rc1 in c:\\users\\krispy\\anaconda3\\envs\\environment\\lib\\site-packages (from numba<0.55->pycaret) (0.37.0)\n",
      "Requirement already satisfied: pytz>=2020.1 in c:\\users\\krispy\\anaconda3\\envs\\environment\\lib\\site-packages (from pandas->pycaret) (2022.1)\n",
      "Requirement already satisfied: pydantic>=1.8.1 in c:\\users\\krispy\\anaconda3\\envs\\environment\\lib\\site-packages (from pandas-profiling>=2.8.0->pycaret) (1.9.0)\n",
      "Requirement already satisfied: multimethod>=1.4 in c:\\users\\krispy\\anaconda3\\envs\\environment\\lib\\site-packages (from pandas-profiling>=2.8.0->pycaret) (1.7)\n",
      "Requirement already satisfied: htmlmin>=0.1.12 in c:\\users\\krispy\\anaconda3\\envs\\environment\\lib\\site-packages (from pandas-profiling>=2.8.0->pycaret) (0.1.12)\n",
      "Requirement already satisfied: missingno>=0.4.2 in c:\\users\\krispy\\anaconda3\\envs\\environment\\lib\\site-packages (from pandas-profiling>=2.8.0->pycaret) (0.5.1)\n",
      "Requirement already satisfied: tangled-up-in-unicode==0.1.0 in c:\\users\\krispy\\anaconda3\\envs\\environment\\lib\\site-packages (from pandas-profiling>=2.8.0->pycaret) (0.1.0)\n",
      "Requirement already satisfied: markupsafe~=2.0.1 in c:\\users\\krispy\\anaconda3\\envs\\environment\\lib\\site-packages (from pandas-profiling>=2.8.0->pycaret) (2.0.1)\n",
      "Requirement already satisfied: requests>=2.24.0 in c:\\users\\krispy\\anaconda3\\envs\\environment\\lib\\site-packages (from pandas-profiling>=2.8.0->pycaret) (2.27.1)\n",
      "Requirement already satisfied: phik>=0.11.1 in c:\\users\\krispy\\anaconda3\\envs\\environment\\lib\\site-packages (from pandas-profiling>=2.8.0->pycaret) (0.12.2)\n",
      "Requirement already satisfied: visions[type_image_path]==0.7.4 in c:\\users\\krispy\\anaconda3\\envs\\environment\\lib\\site-packages (from pandas-profiling>=2.8.0->pycaret) (0.7.4)\n",
      "Requirement already satisfied: tqdm>=4.48.2 in c:\\users\\krispy\\anaconda3\\envs\\environment\\lib\\site-packages (from pandas-profiling>=2.8.0->pycaret) (4.63.1)\n",
      "Requirement already satisfied: jinja2>=2.11.1 in c:\\users\\krispy\\anaconda3\\envs\\environment\\lib\\site-packages (from pandas-profiling>=2.8.0->pycaret) (3.1.1)\n",
      "Requirement already satisfied: attrs>=19.3.0 in c:\\users\\krispy\\anaconda3\\envs\\environment\\lib\\site-packages (from visions[type_image_path]==0.7.4->pandas-profiling>=2.8.0->pycaret) (21.4.0)\n",
      "Requirement already satisfied: networkx>=2.4 in c:\\users\\krispy\\anaconda3\\envs\\environment\\lib\\site-packages (from visions[type_image_path]==0.7.4->pandas-profiling>=2.8.0->pycaret) (2.7.1)\n",
      "Requirement already satisfied: imagehash in c:\\users\\krispy\\anaconda3\\envs\\environment\\lib\\site-packages (from visions[type_image_path]==0.7.4->pandas-profiling>=2.8.0->pycaret) (4.2.1)\n",
      "Requirement already satisfied: tenacity>=6.2.0 in c:\\users\\krispy\\anaconda3\\envs\\environment\\lib\\site-packages (from plotly>=4.4.1->pycaret) (8.0.1)\n",
      "Requirement already satisfied: preshed<3.1.0,>=3.0.2 in c:\\users\\krispy\\anaconda3\\envs\\environment\\lib\\site-packages (from spacy<2.4.0->pycaret) (3.0.6)\n",
      "Requirement already satisfied: catalogue<1.1.0,>=0.0.7 in c:\\users\\krispy\\anaconda3\\envs\\environment\\lib\\site-packages (from spacy<2.4.0->pycaret) (1.0.0)\n",
      "Requirement already satisfied: thinc<7.5.0,>=7.4.1 in c:\\users\\krispy\\anaconda3\\envs\\environment\\lib\\site-packages (from spacy<2.4.0->pycaret) (7.4.5)\n",
      "Requirement already satisfied: murmurhash<1.1.0,>=0.28.0 in c:\\users\\krispy\\anaconda3\\envs\\environment\\lib\\site-packages (from spacy<2.4.0->pycaret) (1.0.6)\n",
      "Requirement already satisfied: cymem<2.1.0,>=2.0.2 in c:\\users\\krispy\\anaconda3\\envs\\environment\\lib\\site-packages (from spacy<2.4.0->pycaret) (2.0.6)\n",
      "Requirement already satisfied: blis<0.8.0,>=0.4.0 in c:\\users\\krispy\\anaconda3\\envs\\environment\\lib\\site-packages (from spacy<2.4.0->pycaret) (0.7.7)\n",
      "Requirement already satisfied: wasabi<1.1.0,>=0.4.0 in c:\\users\\krispy\\anaconda3\\envs\\environment\\lib\\site-packages (from spacy<2.4.0->pycaret) (0.9.0)\n",
      "Requirement already satisfied: plac<1.2.0,>=0.9.6 in c:\\users\\krispy\\anaconda3\\envs\\environment\\lib\\site-packages (from spacy<2.4.0->pycaret) (1.1.3)\n",
      "Requirement already satisfied: srsly<1.1.0,>=1.0.2 in c:\\users\\krispy\\anaconda3\\envs\\environment\\lib\\site-packages (from spacy<2.4.0->pycaret) (1.0.5)\n",
      "Requirement already satisfied: alembic in c:\\users\\krispy\\anaconda3\\envs\\environment\\lib\\site-packages (from mlflow->pycaret) (1.7.7)\n",
      "Requirement already satisfied: prometheus-flask-exporter in c:\\users\\krispy\\anaconda3\\envs\\environment\\lib\\site-packages (from mlflow->pycaret) (0.19.0)\n",
      "Requirement already satisfied: sqlalchemy in c:\\users\\krispy\\anaconda3\\envs\\environment\\lib\\site-packages (from mlflow->pycaret) (1.4.32)\n",
      "Requirement already satisfied: importlib-metadata!=4.7.0,>=3.7.0 in c:\\users\\krispy\\anaconda3\\envs\\environment\\lib\\site-packages (from mlflow->pycaret) (4.11.3)\n",
      "Requirement already satisfied: sqlparse>=0.3.1 in c:\\users\\krispy\\anaconda3\\envs\\environment\\lib\\site-packages (from mlflow->pycaret) (0.4.2)\n",
      "Requirement already satisfied: click>=7.0 in c:\\users\\krispy\\anaconda3\\envs\\environment\\lib\\site-packages (from mlflow->pycaret) (8.0.4)\n",
      "Requirement already satisfied: querystring-parser in c:\\users\\krispy\\anaconda3\\envs\\environment\\lib\\site-packages (from mlflow->pycaret) (1.2.4)\n",
      "Requirement already satisfied: gitpython>=2.1.0 in c:\\users\\krispy\\anaconda3\\envs\\environment\\lib\\site-packages (from mlflow->pycaret) (3.1.27)\n",
      "Requirement already satisfied: docker>=4.0.0 in c:\\users\\krispy\\anaconda3\\envs\\environment\\lib\\site-packages (from mlflow->pycaret) (5.0.3)\n",
      "Requirement already satisfied: entrypoints in c:\\users\\krispy\\anaconda3\\envs\\environment\\lib\\site-packages (from mlflow->pycaret) (0.4)\n",
      "Requirement already satisfied: databricks-cli>=0.8.7 in c:\\users\\krispy\\anaconda3\\envs\\environment\\lib\\site-packages (from mlflow->pycaret) (0.16.4)\n",
      "Requirement already satisfied: Flask in c:\\users\\krispy\\anaconda3\\envs\\environment\\lib\\site-packages (from mlflow->pycaret) (2.1.0)\n",
      "Requirement already satisfied: protobuf>=3.7.0 in c:\\users\\krispy\\anaconda3\\envs\\environment\\lib\\site-packages (from mlflow->pycaret) (3.19.4)\n",
      "Requirement already satisfied: waitress in c:\\users\\krispy\\anaconda3\\envs\\environment\\lib\\site-packages (from mlflow->pycaret) (2.1.1)\n",
      "Requirement already satisfied: cloudpickle in c:\\users\\krispy\\anaconda3\\envs\\environment\\lib\\site-packages (from mlflow->pycaret) (2.0.0)\n",
      "Requirement already satisfied: regex>=2021.8.3 in c:\\users\\krispy\\anaconda3\\envs\\environment\\lib\\site-packages (from nltk->pycaret) (2022.3.15)\n",
      "Requirement already satisfied: funcy in c:\\users\\krispy\\anaconda3\\envs\\environment\\lib\\site-packages (from pyLDAvis->pycaret) (1.17)\n",
      "Requirement already satisfied: numexpr in c:\\users\\krispy\\anaconda3\\envs\\environment\\lib\\site-packages (from pyLDAvis->pycaret) (2.8.1)\n",
      "Requirement already satisfied: future in c:\\users\\krispy\\anaconda3\\envs\\environment\\lib\\site-packages (from pyLDAvis->pycaret) (0.18.2)\n",
      "Requirement already satisfied: statsmodels in c:\\users\\krispy\\anaconda3\\envs\\environment\\lib\\site-packages (from pyod->pycaret) (0.13.2)\n",
      "Requirement already satisfied: pynndescent>=0.5 in c:\\users\\krispy\\anaconda3\\envs\\environment\\lib\\site-packages (from umap-learn->pycaret) (0.5.6)\n",
      "Requirement already satisfied: tabulate>=0.7.7 in c:\\users\\krispy\\anaconda3\\envs\\environment\\lib\\site-packages (from databricks-cli>=0.8.7->mlflow->pycaret) (0.8.9)\n",
      "Requirement already satisfied: pywin32==227 in c:\\users\\krispy\\anaconda3\\envs\\environment\\lib\\site-packages (from docker>=4.0.0->mlflow->pycaret) (227)\n",
      "Requirement already satisfied: websocket-client>=0.32.0 in c:\\users\\krispy\\anaconda3\\envs\\environment\\lib\\site-packages (from docker>=4.0.0->mlflow->pycaret) (1.3.2)\n",
      "Requirement already satisfied: gitdb<5,>=4.0.1 in c:\\users\\krispy\\anaconda3\\envs\\environment\\lib\\site-packages (from gitpython>=2.1.0->mlflow->pycaret) (4.0.9)\n",
      "Requirement already satisfied: zipp>=0.5 in c:\\users\\krispy\\anaconda3\\envs\\environment\\lib\\site-packages (from importlib-metadata!=4.7.0,>=3.7.0->mlflow->pycaret) (3.7.0)\n",
      "Requirement already satisfied: jupyter-client<8.0 in c:\\users\\krispy\\anaconda3\\envs\\environment\\lib\\site-packages (from ipykernel>=4.5.1->ipywidgets->pycaret) (7.2.0)\n",
      "Requirement already satisfied: tornado<7.0,>=5.0 in c:\\users\\krispy\\anaconda3\\envs\\environment\\lib\\site-packages (from ipykernel>=4.5.1->ipywidgets->pycaret) (6.1)\n",
      "Requirement already satisfied: nest-asyncio in c:\\users\\krispy\\anaconda3\\envs\\environment\\lib\\site-packages (from ipykernel>=4.5.1->ipywidgets->pycaret) (1.5.4)\n",
      "Requirement already satisfied: debugpy<2.0,>=1.0.0 in c:\\users\\krispy\\anaconda3\\envs\\environment\\lib\\site-packages (from ipykernel>=4.5.1->ipywidgets->pycaret) (1.6.0)\n",
      "Requirement already satisfied: psutil in c:\\users\\krispy\\anaconda3\\envs\\environment\\lib\\site-packages (from ipykernel>=4.5.1->ipywidgets->pycaret) (5.9.0)\n",
      "Requirement already satisfied: parso<0.9.0,>=0.8.0 in c:\\users\\krispy\\anaconda3\\envs\\environment\\lib\\site-packages (from jedi>=0.16->IPython->pycaret) (0.8.3)\n",
      "Requirement already satisfied: jupyter-core in c:\\users\\krispy\\anaconda3\\envs\\environment\\lib\\site-packages (from nbformat>=4.2.0->ipywidgets->pycaret) (4.9.2)\n",
      "Requirement already satisfied: jsonschema!=2.5.0,>=2.4 in c:\\users\\krispy\\anaconda3\\envs\\environment\\lib\\site-packages (from nbformat>=4.2.0->ipywidgets->pycaret) (4.4.0)\n",
      "Requirement already satisfied: wcwidth in c:\\users\\krispy\\anaconda3\\envs\\environment\\lib\\site-packages (from prompt-toolkit!=3.0.0,!=3.0.1,<3.1.0,>=2.0.0->IPython->pycaret) (0.2.5)\n",
      "Requirement already satisfied: typing-extensions>=3.7.4.3 in c:\\users\\krispy\\anaconda3\\envs\\environment\\lib\\site-packages (from pydantic>=1.8.1->pandas-profiling>=2.8.0->pycaret) (4.1.1)\n",
      "Requirement already satisfied: idna<4,>=2.5 in c:\\users\\krispy\\anaconda3\\envs\\environment\\lib\\site-packages (from requests>=2.24.0->pandas-profiling>=2.8.0->pycaret) (3.3)\n",
      "Requirement already satisfied: urllib3<1.27,>=1.21.1 in c:\\users\\krispy\\anaconda3\\envs\\environment\\lib\\site-packages (from requests>=2.24.0->pandas-profiling>=2.8.0->pycaret) (1.26.9)\n",
      "Requirement already satisfied: charset-normalizer~=2.0.0 in c:\\users\\krispy\\anaconda3\\envs\\environment\\lib\\site-packages (from requests>=2.24.0->pandas-profiling>=2.8.0->pycaret) (2.0.12)\n",
      "Requirement already satisfied: certifi>=2017.4.17 in c:\\users\\krispy\\anaconda3\\envs\\environment\\lib\\site-packages (from requests>=2.24.0->pandas-profiling>=2.8.0->pycaret) (2021.10.8)\n",
      "Requirement already satisfied: notebook>=4.4.1 in c:\\users\\krispy\\anaconda3\\envs\\environment\\lib\\site-packages (from widgetsnbextension~=3.6.0->ipywidgets->pycaret) (6.4.10)\n",
      "Requirement already satisfied: importlib-resources in c:\\users\\krispy\\anaconda3\\envs\\environment\\lib\\site-packages (from alembic->mlflow->pycaret) (5.6.0)\n",
      "Requirement already satisfied: Mako in c:\\users\\krispy\\anaconda3\\envs\\environment\\lib\\site-packages (from alembic->mlflow->pycaret) (1.2.0)\n",
      "Requirement already satisfied: greenlet!=0.4.17 in c:\\users\\krispy\\anaconda3\\envs\\environment\\lib\\site-packages (from sqlalchemy->mlflow->pycaret) (1.1.2)\n",
      "Requirement already satisfied: Werkzeug>=2.0 in c:\\users\\krispy\\anaconda3\\envs\\environment\\lib\\site-packages (from Flask->mlflow->pycaret) (2.1.0)\n",
      "Requirement already satisfied: itsdangerous>=2.0 in c:\\users\\krispy\\anaconda3\\envs\\environment\\lib\\site-packages (from Flask->mlflow->pycaret) (2.1.2)\n",
      "Requirement already satisfied: prometheus-client in c:\\users\\krispy\\anaconda3\\envs\\environment\\lib\\site-packages (from prometheus-flask-exporter->mlflow->pycaret) (0.13.1)\n",
      "Requirement already satisfied: pure-eval in c:\\users\\krispy\\anaconda3\\envs\\environment\\lib\\site-packages (from stack-data->IPython->pycaret) (0.2.2)\n",
      "Requirement already satisfied: executing in c:\\users\\krispy\\anaconda3\\envs\\environment\\lib\\site-packages (from stack-data->IPython->pycaret) (0.8.3)\n",
      "Requirement already satisfied: asttokens in c:\\users\\krispy\\anaconda3\\envs\\environment\\lib\\site-packages (from stack-data->IPython->pycaret) (2.0.5)\n",
      "Requirement already satisfied: patsy>=0.5.2 in c:\\users\\krispy\\anaconda3\\envs\\environment\\lib\\site-packages (from statsmodels->pyod->pycaret) (0.5.2)\n",
      "Requirement already satisfied: smmap<6,>=3.0.1 in c:\\users\\krispy\\anaconda3\\envs\\environment\\lib\\site-packages (from gitdb<5,>=4.0.1->gitpython>=2.1.0->mlflow->pycaret) (5.0.0)\n",
      "Requirement already satisfied: pyrsistent!=0.17.0,!=0.17.1,!=0.17.2,>=0.14.0 in c:\\users\\krispy\\anaconda3\\envs\\environment\\lib\\site-packages (from jsonschema!=2.5.0,>=2.4->nbformat>=4.2.0->ipywidgets->pycaret) (0.18.1)\n",
      "Requirement already satisfied: pyzmq>=17 in c:\\users\\krispy\\anaconda3\\envs\\environment\\lib\\site-packages (from jupyter-client<8.0->ipykernel>=4.5.1->ipywidgets->pycaret) (22.3.0)\n",
      "Requirement already satisfied: Send2Trash>=1.8.0 in c:\\users\\krispy\\anaconda3\\envs\\environment\\lib\\site-packages (from notebook>=4.4.1->widgetsnbextension~=3.6.0->ipywidgets->pycaret) (1.8.0)\n",
      "Requirement already satisfied: terminado>=0.8.3 in c:\\users\\krispy\\anaconda3\\envs\\environment\\lib\\site-packages (from notebook>=4.4.1->widgetsnbextension~=3.6.0->ipywidgets->pycaret) (0.13.3)\n",
      "Requirement already satisfied: nbconvert>=5 in c:\\users\\krispy\\anaconda3\\envs\\environment\\lib\\site-packages (from notebook>=4.4.1->widgetsnbextension~=3.6.0->ipywidgets->pycaret) (6.4.5)\n",
      "Requirement already satisfied: argon2-cffi in c:\\users\\krispy\\anaconda3\\envs\\environment\\lib\\site-packages (from notebook>=4.4.1->widgetsnbextension~=3.6.0->ipywidgets->pycaret) (21.3.0)\n",
      "Requirement already satisfied: PyWavelets in c:\\users\\krispy\\anaconda3\\envs\\environment\\lib\\site-packages (from imagehash->visions[type_image_path]==0.7.4->pandas-profiling>=2.8.0->pycaret) (1.3.0)\n",
      "Requirement already satisfied: pandocfilters>=1.4.1 in c:\\users\\krispy\\anaconda3\\envs\\environment\\lib\\site-packages (from nbconvert>=5->notebook>=4.4.1->widgetsnbextension~=3.6.0->ipywidgets->pycaret) (1.5.0)\n",
      "Requirement already satisfied: beautifulsoup4 in c:\\users\\krispy\\anaconda3\\envs\\environment\\lib\\site-packages (from nbconvert>=5->notebook>=4.4.1->widgetsnbextension~=3.6.0->ipywidgets->pycaret) (4.10.0)\n",
      "Requirement already satisfied: testpath in c:\\users\\krispy\\anaconda3\\envs\\environment\\lib\\site-packages (from nbconvert>=5->notebook>=4.4.1->widgetsnbextension~=3.6.0->ipywidgets->pycaret) (0.6.0)\n",
      "Requirement already satisfied: bleach in c:\\users\\krispy\\anaconda3\\envs\\environment\\lib\\site-packages (from nbconvert>=5->notebook>=4.4.1->widgetsnbextension~=3.6.0->ipywidgets->pycaret) (4.1.0)\n",
      "Requirement already satisfied: mistune<2,>=0.8.1 in c:\\users\\krispy\\anaconda3\\envs\\environment\\lib\\site-packages (from nbconvert>=5->notebook>=4.4.1->widgetsnbextension~=3.6.0->ipywidgets->pycaret) (0.8.4)\n",
      "Requirement already satisfied: jupyterlab-pygments in c:\\users\\krispy\\anaconda3\\envs\\environment\\lib\\site-packages (from nbconvert>=5->notebook>=4.4.1->widgetsnbextension~=3.6.0->ipywidgets->pycaret) (0.1.2)\n",
      "Requirement already satisfied: defusedxml in c:\\users\\krispy\\anaconda3\\envs\\environment\\lib\\site-packages (from nbconvert>=5->notebook>=4.4.1->widgetsnbextension~=3.6.0->ipywidgets->pycaret) (0.7.1)\n",
      "Requirement already satisfied: nbclient<0.6.0,>=0.5.0 in c:\\users\\krispy\\anaconda3\\envs\\environment\\lib\\site-packages (from nbconvert>=5->notebook>=4.4.1->widgetsnbextension~=3.6.0->ipywidgets->pycaret) (0.5.13)\n",
      "Requirement already satisfied: pywinpty>=1.1.0 in c:\\users\\krispy\\anaconda3\\envs\\environment\\lib\\site-packages (from terminado>=0.8.3->notebook>=4.4.1->widgetsnbextension~=3.6.0->ipywidgets->pycaret) (2.0.5)\n",
      "Requirement already satisfied: argon2-cffi-bindings in c:\\users\\krispy\\anaconda3\\envs\\environment\\lib\\site-packages (from argon2-cffi->notebook>=4.4.1->widgetsnbextension~=3.6.0->ipywidgets->pycaret) (21.2.0)\n",
      "Requirement already satisfied: cffi>=1.0.1 in c:\\users\\krispy\\anaconda3\\envs\\environment\\lib\\site-packages (from argon2-cffi-bindings->argon2-cffi->notebook>=4.4.1->widgetsnbextension~=3.6.0->ipywidgets->pycaret) (1.15.0)\n",
      "Requirement already satisfied: soupsieve>1.2 in c:\\users\\krispy\\anaconda3\\envs\\environment\\lib\\site-packages (from beautifulsoup4->nbconvert>=5->notebook>=4.4.1->widgetsnbextension~=3.6.0->ipywidgets->pycaret) (2.3.1)\n",
      "Requirement already satisfied: webencodings in c:\\users\\krispy\\anaconda3\\envs\\environment\\lib\\site-packages (from bleach->nbconvert>=5->notebook>=4.4.1->widgetsnbextension~=3.6.0->ipywidgets->pycaret) (0.5.1)\n",
      "Requirement already satisfied: pycparser in c:\\users\\krispy\\anaconda3\\envs\\environment\\lib\\site-packages (from cffi>=1.0.1->argon2-cffi-bindings->argon2-cffi->notebook>=4.4.1->widgetsnbextension~=3.6.0->ipywidgets->pycaret) (2.21)\n",
      "Note: you may need to restart the kernel to use updated packages.\n"
     ]
    }
   ],
   "source": [
    "#pip install pycaret"
   ]
  },
  {
   "cell_type": "code",
   "execution_count": 11,
   "id": "7c29a1de-ec95-456e-9b00-6e70eb0ab085",
   "metadata": {},
   "outputs": [
    {
     "name": "stdout",
     "output_type": "stream",
     "text": [
      "Collecting h5py\n",
      "  Using cached h5py-3.6.0-cp38-cp38-win_amd64.whl (2.8 MB)\n",
      "Requirement already satisfied: numpy>=1.14.5 in c:\\users\\krispy\\anaconda3\\envs\\environment\\lib\\site-packages (from h5py) (1.19.5)\n",
      "Installing collected packages: h5py\n",
      "Successfully installed h5py-3.6.0\n",
      "Requirement already satisfied: typing-extensions in c:\\users\\krispy\\anaconda3\\envs\\environment\\lib\\site-packages (4.1.1)\n",
      "Requirement already satisfied: wheel in c:\\users\\krispy\\anaconda3\\envs\\environment\\lib\\site-packages (0.37.1)\n"
     ]
    }
   ],
   "source": [
    "# !pip install h5py\n",
    "# !pip install typing-extensions\n",
    "# !pip install wheel"
   ]
  },
  {
   "cell_type": "code",
   "execution_count": 13,
   "id": "ddb22a03-8998-48a1-9a5a-7435c791f683",
   "metadata": {},
   "outputs": [
    {
     "name": "stdout",
     "output_type": "stream",
     "text": [
      "Requirement already satisfied: scipy in c:\\users\\krispy\\appdata\\roaming\\python\\python38\\site-packages (1.8.0)\n",
      "Requirement already satisfied: numpy<1.25.0,>=1.17.3 in c:\\users\\krispy\\anaconda3\\envs\\environment\\lib\\site-packages (from scipy) (1.19.5)\n",
      "Note: you may need to restart the kernel to use updated packages.\n"
     ]
    }
   ],
   "source": [
    "#pip install --upgrade --user scipy"
   ]
  },
  {
   "cell_type": "code",
   "execution_count": 3,
   "id": "40e141fb-c8a4-4138-8c07-2cfdec477183",
   "metadata": {},
   "outputs": [
    {
     "name": "stderr",
     "output_type": "stream",
     "text": [
      "C:\\Users\\Krispy\\anaconda3\\envs\\environment\\lib\\site-packages\\sklearn\\base.py:329: UserWarning: Trying to unpickle estimator TfidfTransformer from version 1.0.2 when using version 0.23.2. This might lead to breaking code or invalid results. Use at your own risk.\n",
      "  warnings.warn(\n",
      "C:\\Users\\Krispy\\anaconda3\\envs\\environment\\lib\\site-packages\\sklearn\\base.py:329: UserWarning: Trying to unpickle estimator TfidfVectorizer from version 1.0.2 when using version 0.23.2. This might lead to breaking code or invalid results. Use at your own risk.\n",
      "  warnings.warn(\n",
      "C:\\Users\\Krispy\\anaconda3\\envs\\environment\\lib\\site-packages\\sklearn\\base.py:329: UserWarning: Trying to unpickle estimator SVC from version 1.0.2 when using version 0.23.2. This might lead to breaking code or invalid results. Use at your own risk.\n",
      "  warnings.warn(\n",
      "C:\\Users\\Krispy\\anaconda3\\envs\\environment\\lib\\site-packages\\sklearn\\base.py:329: UserWarning: Trying to unpickle estimator Pipeline from version 1.0.2 when using version 0.23.2. This might lead to breaking code or invalid results. Use at your own risk.\n",
      "  warnings.warn(\n",
      "C:\\Users\\Krispy\\anaconda3\\envs\\environment\\lib\\site-packages\\sklearn\\base.py:329: UserWarning: Trying to unpickle estimator GridSearchCV from version 1.0.2 when using version 0.23.2. This might lead to breaking code or invalid results. Use at your own risk.\n",
      "  warnings.warn(\n"
     ]
    }
   ],
   "source": [
    "# Loading the best model - SVC to build app from.\n",
    "model = pickle.load(open('TF-SVC.p', 'rb'))"
   ]
  },
  {
   "cell_type": "code",
   "execution_count": 4,
   "id": "e35fc3c9-1ffc-4b99-91fd-df3a1f6f26e2",
   "metadata": {},
   "outputs": [
    {
     "name": "stderr",
     "output_type": "stream",
     "text": [
      "2022-04-05 12:51:14.990 \n",
      "  \u001b[33m\u001b[1mWarning:\u001b[0m to view this Streamlit app on a browser, run it with the following\n",
      "  command:\n",
      "\n",
      "    streamlit run C:\\Users\\Krispy\\anaconda3\\envs\\environment\\lib\\site-packages\\ipykernel_launcher.py [ARGUMENTS]\n"
     ]
    },
    {
     "data": {
      "text/plain": [
       "DeltaGenerator(_root_container=0, _provided_cursor=None, _parent=None, _block_type=None, _form_data=None)"
      ]
     },
     "execution_count": 4,
     "metadata": {},
     "output_type": "execute_result"
    }
   ],
   "source": [
    "st.title(\"Finding the mental state of reddit user\")"
   ]
  },
  {
   "cell_type": "code",
   "execution_count": 5,
   "id": "72e9bf9c-c7b2-4a66-ae38-50a2ee5ae1f4",
   "metadata": {},
   "outputs": [],
   "source": [
    "user_input = st.text_input(\"Enter Reddit User\")\n",
    "api=(f'https://api.pushshift.io/reddit/search/submission/?author={user_input}&sort=asc&size=100')\n",
    "st.write(f'The Reddit User selected: {user_input}')"
   ]
  },
  {
   "cell_type": "code",
   "execution_count": 6,
   "id": "3da2292d-0860-4688-921c-a286c783a163",
   "metadata": {},
   "outputs": [],
   "source": [
    "if user_input:\n",
    "    text_list = []\n",
    "    with st.spinner('Collecting data in progress...Wait for it...'):\n",
    "        for num in range(len(requests.get(api).json()['data'])):\n",
    "            text_list.append(requests.get(api).json()['data'][num]['selftext'])\n",
    "    st.success('Data Collection Completed!')"
   ]
  },
  {
   "cell_type": "code",
   "execution_count": 9,
   "id": "177d6cba-4a5e-4b20-af88-4e621ef28bed",
   "metadata": {},
   "outputs": [
    {
     "ename": "NameError",
     "evalue": "name 'text_list' is not defined",
     "output_type": "error",
     "traceback": [
      "\u001b[1;31m---------------------------------------------------------------------------\u001b[0m",
      "\u001b[1;31mNameError\u001b[0m                                 Traceback (most recent call last)",
      "Input \u001b[1;32mIn [9]\u001b[0m, in \u001b[0;36m<cell line: 1>\u001b[1;34m()\u001b[0m\n\u001b[1;32m----> 1\u001b[0m \u001b[43mtext_list\u001b[49m\n",
      "\u001b[1;31mNameError\u001b[0m: name 'text_list' is not defined"
     ]
    }
   ],
   "source": [
    "text_list"
   ]
  },
  {
   "cell_type": "code",
   "execution_count": 7,
   "id": "fcf8e7c3-067d-465c-97fb-7b3b4ee3ca1c",
   "metadata": {
    "tags": []
   },
   "outputs": [
    {
     "ename": "NameError",
     "evalue": "name 'text_list' is not defined",
     "output_type": "error",
     "traceback": [
      "\u001b[1;31m---------------------------------------------------------------------------\u001b[0m",
      "\u001b[1;31mNameError\u001b[0m                                 Traceback (most recent call last)",
      "Input \u001b[1;32mIn [7]\u001b[0m, in \u001b[0;36m<cell line: 1>\u001b[1;34m()\u001b[0m\n\u001b[1;32m----> 1\u001b[0m df \u001b[38;5;241m=\u001b[39m pd\u001b[38;5;241m.\u001b[39mDataFrame({\u001b[38;5;124m'\u001b[39m\u001b[38;5;124mtext\u001b[39m\u001b[38;5;124m'\u001b[39m:\u001b[43mtext_list\u001b[49m, \u001b[38;5;124m'\u001b[39m\u001b[38;5;124mlabel\u001b[39m\u001b[38;5;124m'\u001b[39m:np\u001b[38;5;241m.\u001b[39mnan})\n\u001b[0;32m      2\u001b[0m df \u001b[38;5;241m=\u001b[39m df\u001b[38;5;241m.\u001b[39mreplace(\u001b[38;5;124m'\u001b[39m\u001b[38;5;124m'\u001b[39m, np\u001b[38;5;241m.\u001b[39mnan)\n\u001b[0;32m      3\u001b[0m df \u001b[38;5;241m=\u001b[39m df[df[\u001b[38;5;124m'\u001b[39m\u001b[38;5;124mtext\u001b[39m\u001b[38;5;124m'\u001b[39m]\u001b[38;5;241m.\u001b[39mnotna()]\n",
      "\u001b[1;31mNameError\u001b[0m: name 'text_list' is not defined"
     ]
    }
   ],
   "source": [
    "df = pd.DataFrame({'text':text_list, 'label':np.nan})\n",
    "df = df.replace('', np.nan)\n",
    "df = df[df['text'].notna()]\n",
    "df = df[df[\"text\"].str.contains(\"removed\")==False]\n",
    "df.reset_index(drop=True,inplace=True)"
   ]
  },
  {
   "cell_type": "code",
   "execution_count": null,
   "id": "f93b26cc-5533-4896-9542-c6510b38989b",
   "metadata": {},
   "outputs": [],
   "source": [
    "st.write(\"Predicting in progress...\")\n",
    "my_bar = st.progress(0)\n",
    "for predict in range(len(df)):\n",
    "    df['label'][predict]=model.predict([df['text'][predict]])\n",
    "    my_bar.progress(int(predict/len(df)*100))\n",
    "    df['label']=df['label'].map({1 : 'sadness', 2 : 'fear', 3: 'disgust', 4: 'anger', 5: 'neutral',\n",
    "       6: 'surprise', 7:'joy'})"
   ]
  },
  {
   "cell_type": "code",
   "execution_count": null,
   "id": "2991a9af-4688-43f9-8c58-c7a5d7cb4133",
   "metadata": {},
   "outputs": [],
   "source": [
    "st.write(\"The data display is now shown below:\")\n",
    "st.dataframe(df)\n",
    "    \n",
    "st.write(Counter(df['label']))"
   ]
  },
  {
   "cell_type": "code",
   "execution_count": null,
   "id": "832d457f-be85-47a5-8598-9458c94bbe13",
   "metadata": {},
   "outputs": [],
   "source": []
  },
  {
   "cell_type": "code",
   "execution_count": null,
   "id": "019fb221-a902-455d-b71c-87c05378a816",
   "metadata": {},
   "outputs": [],
   "source": [
    "model = pickle.load(open('TF-SVC.p', 'rb'))\n",
    "​\n",
    "st.title(\"Finding the mental state of reddit user\")\n",
    "​\n",
    "user_input = st.text_input(\"Enter Reddit User\")\n",
    "api=(f'https://api.pushshift.io/reddit/search/submission/?author={user_input}&sort=asc&size=100')\n",
    "st.write(f'The Reddit User selected: {user_input}')\n",
    "​\n",
    "if user_input:\n",
    "    text_list = []\n",
    "    with st.spinner('Collecting data in progress...Wait for it...'):\n",
    "        for num in range(len(requests.get(api).json()['data'])):\n",
    "            text_list.append(requests.get(api).json()['data'][num]['selftext'])\n",
    "    st.success('Data Collection Completed!')\n",
    "​\n",
    "    df = pd.DataFrame({'text':text_list, 'label':np.nan})\n",
    "    df = df.replace('', np.nan)\n",
    "    df = df[df['text'].notna()]\n",
    "    df = df[df[\"text\"].str.contains(\"removed\")==False]\n",
    "    df.reset_index(drop=True,inplace=True)\n",
    "​\n",
    "    st.write(\"Predicting in progress...\")\n",
    "    my_bar = st.progress(0)\n",
    "    for predict in range(len(df)):\n",
    "        df['label'][predict]=model.predict([df['text'][predict]])\n",
    "        my_bar.progress(int(predict/len(df)*100))\n",
    "    df['label']=df['label'].map({1 : 'sadness', 2 : 'fear', 3: 'disgust', 4: 'anger', 5: 'neutral',\n",
    "       6: 'surprise', 7:'joy'})\n",
    "​\n",
    "    st.write(\"The data display is now shown below:\")\n",
    "    st.dataframe(df)\n",
    "    \n",
    "    st.write(Counter(df['label']))"
   ]
  },
  {
   "cell_type": "code",
   "execution_count": null,
   "id": "d93cb2c5-764a-4fea-9358-5c1c850f3e2a",
   "metadata": {},
   "outputs": [],
   "source": []
  },
  {
   "cell_type": "code",
   "execution_count": null,
   "id": "a8e596cd-8b21-423f-8849-ac08f79fec00",
   "metadata": {},
   "outputs": [],
   "source": []
  },
  {
   "cell_type": "code",
   "execution_count": null,
   "id": "359522be-a67e-4506-a6fa-d7b7f8ed5d3a",
   "metadata": {},
   "outputs": [],
   "source": []
  },
  {
   "cell_type": "code",
   "execution_count": null,
   "id": "b955f5ea-1360-4166-b7e8-6356fd697193",
   "metadata": {},
   "outputs": [],
   "source": []
  }
 ],
 "metadata": {
  "kernelspec": {
   "display_name": "Python 3 (ipykernel)",
   "language": "python",
   "name": "python3"
  },
  "language_info": {
   "codemirror_mode": {
    "name": "ipython",
    "version": 3
   },
   "file_extension": ".py",
   "mimetype": "text/x-python",
   "name": "python",
   "nbconvert_exporter": "python",
   "pygments_lexer": "ipython3",
   "version": "3.8.13"
  }
 },
 "nbformat": 4,
 "nbformat_minor": 5
}
